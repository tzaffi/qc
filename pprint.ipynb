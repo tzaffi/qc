{
 "cells": [
  {
   "cell_type": "markdown",
   "metadata": {},
   "source": [
    "Note: you may need to hit \"trust notebook\" at the top to allow it to inject HTML."
   ]
  },
  {
   "cell_type": "code",
   "execution_count": 1,
   "metadata": {},
   "outputs": [],
   "source": [
    "%run globals.ipynb"
   ]
  },
  {
   "cell_type": "markdown",
   "metadata": {},
   "source": [
    "Prepare an array to print"
   ]
  },
  {
   "cell_type": "code",
   "execution_count": 2,
   "metadata": {},
   "outputs": [
    {
     "data": {
      "text/plain": [
       "array([[[ 0,  1,  2,  3,  4,  5,  6,  7,  8,  9],\n",
       "        [10, 11, 12, 13, 14, 15, 16, 17, 18, 19],\n",
       "        [20, 21, 22, 23, 24, 25, 26, 27, 28, 29]],\n",
       "\n",
       "       [[30, 31, 32, 33, 34, 35, 36, 37, 38, 39],\n",
       "        [40, 41, 42, 43, 44, 45, 46, 47, 48, 49],\n",
       "        [50, 51, 52, 53, 54, 55, 56, 57, 58, 59]]])"
      ]
     },
     "execution_count": 2,
     "metadata": {},
     "output_type": "execute_result"
    }
   ],
   "source": [
    "shape = (2, 3, 10)\n",
    "arr_3d = np.arange(np.prod(shape)).reshape(shape)\n",
    "arr_3d"
   ]
  },
  {
   "cell_type": "code",
   "execution_count": 3,
   "metadata": {},
   "outputs": [
    {
     "data": {
      "text/html": [
       "<style>\n",
       "    .numpy-array {\n",
       "        display: inline-block;\n",
       "    }\n",
       "    .numpy-array .numpy-array-slice {\n",
       "        border: 1px solid #cfcfcf;\n",
       "        border-radius: 4px;\n",
       "        margin: 1px;\n",
       "        padding: 1px;\n",
       "        display: flex;\n",
       "        flex: 1;\n",
       "        text-align: right;\n",
       "        position: relative;\n",
       "    }\n",
       "    .numpy-array .numpy-array-slice:hover {\n",
       "        border: 1px solid #66BB6A;\n",
       "    }\n",
       "    .numpy-array .numpy-array-slice.numpy-array-vertical {\n",
       "        flex-direction: column;\n",
       "    }\n",
       "    .numpy-array .numpy-array-slice.numpy-array-horizontal {\n",
       "        flex-direction: row;\n",
       "    }\n",
       "    .numpy-array .numpy-array-ndim-m0 {\n",
       "        padding: 0 0.5ex;\n",
       "    }\n",
       "    \n",
       "    /* Hide the comma and square bracket characters which exist to help with copy paste */\n",
       "    .numpy-array .numpy-array-bracket {\n",
       "        font-size: 0;\n",
       "        position: absolute;\n",
       "    }\n",
       "    .numpy-array span .numpy-array-comma {\n",
       "        font-size: 0;\n",
       "        height: 0;\n",
       "    }\n",
       "</style><div class='numpy-array'><span class='numpy-array-slice numpy-array-ndim-0 numpy-array-ndim-m3 numpy-array-vertical' title='[:,:,:]'><span class=\"numpy-array-bracket numpy-array-bracket-open\">[</span><span class='numpy-array-slice numpy-array-ndim-1 numpy-array-ndim-m2 numpy-array-vertical' title='[0,:,:]'><span class=\"numpy-array-bracket numpy-array-bracket-open\">[</span><span class='numpy-array-slice numpy-array-ndim-2 numpy-array-ndim-m1 numpy-array-horizontal' title='[0,0,:]'><span class=\"numpy-array-bracket numpy-array-bracket-open\">[</span><span class='numpy-array-slice numpy-array-ndim-3 numpy-array-ndim-m0 numpy-array-vertical' title='[0,0,0]'>0</span><span class=\"numpy-array-comma\">,</span><span class='numpy-array-slice numpy-array-ndim-3 numpy-array-ndim-m0 numpy-array-vertical' title='[0,0,1]'>1</span><span class=\"numpy-array-comma\">,</span><span class='numpy-array-slice numpy-array-ndim-3 numpy-array-ndim-m0 numpy-array-vertical' title='[0,0,2]'>2</span><span class=\"numpy-array-comma\">,</span><span class='numpy-array-slice numpy-array-ndim-3 numpy-array-ndim-m0 numpy-array-vertical' title='[0,0,3]'>3</span><span class=\"numpy-array-comma\">,</span><span class='numpy-array-slice numpy-array-ndim-3 numpy-array-ndim-m0 numpy-array-vertical' title='[0,0,4]'>4</span><span class=\"numpy-array-comma\">,</span><span class='numpy-array-slice numpy-array-ndim-3 numpy-array-ndim-m0 numpy-array-vertical' title='[0,0,5]'>5</span><span class=\"numpy-array-comma\">,</span><span class='numpy-array-slice numpy-array-ndim-3 numpy-array-ndim-m0 numpy-array-vertical' title='[0,0,6]'>6</span><span class=\"numpy-array-comma\">,</span><span class='numpy-array-slice numpy-array-ndim-3 numpy-array-ndim-m0 numpy-array-vertical' title='[0,0,7]'>7</span><span class=\"numpy-array-comma\">,</span><span class='numpy-array-slice numpy-array-ndim-3 numpy-array-ndim-m0 numpy-array-vertical' title='[0,0,8]'>8</span><span class=\"numpy-array-comma\">,</span><span class='numpy-array-slice numpy-array-ndim-3 numpy-array-ndim-m0 numpy-array-vertical' title='[0,0,9]'>9</span><span class=\"numpy-array-bracket numpy-array-bracket-close\">]</span></span><span class=\"numpy-array-comma\">,</span><span class='numpy-array-slice numpy-array-ndim-2 numpy-array-ndim-m1 numpy-array-horizontal' title='[0,1,:]'><span class=\"numpy-array-bracket numpy-array-bracket-open\">[</span><span class='numpy-array-slice numpy-array-ndim-3 numpy-array-ndim-m0 numpy-array-vertical' title='[0,1,0]'>10</span><span class=\"numpy-array-comma\">,</span><span class='numpy-array-slice numpy-array-ndim-3 numpy-array-ndim-m0 numpy-array-vertical' title='[0,1,1]'>11</span><span class=\"numpy-array-comma\">,</span><span class='numpy-array-slice numpy-array-ndim-3 numpy-array-ndim-m0 numpy-array-vertical' title='[0,1,2]'>12</span><span class=\"numpy-array-comma\">,</span><span class='numpy-array-slice numpy-array-ndim-3 numpy-array-ndim-m0 numpy-array-vertical' title='[0,1,3]'>13</span><span class=\"numpy-array-comma\">,</span><span class='numpy-array-slice numpy-array-ndim-3 numpy-array-ndim-m0 numpy-array-vertical' title='[0,1,4]'>14</span><span class=\"numpy-array-comma\">,</span><span class='numpy-array-slice numpy-array-ndim-3 numpy-array-ndim-m0 numpy-array-vertical' title='[0,1,5]'>15</span><span class=\"numpy-array-comma\">,</span><span class='numpy-array-slice numpy-array-ndim-3 numpy-array-ndim-m0 numpy-array-vertical' title='[0,1,6]'>16</span><span class=\"numpy-array-comma\">,</span><span class='numpy-array-slice numpy-array-ndim-3 numpy-array-ndim-m0 numpy-array-vertical' title='[0,1,7]'>17</span><span class=\"numpy-array-comma\">,</span><span class='numpy-array-slice numpy-array-ndim-3 numpy-array-ndim-m0 numpy-array-vertical' title='[0,1,8]'>18</span><span class=\"numpy-array-comma\">,</span><span class='numpy-array-slice numpy-array-ndim-3 numpy-array-ndim-m0 numpy-array-vertical' title='[0,1,9]'>19</span><span class=\"numpy-array-bracket numpy-array-bracket-close\">]</span></span><span class=\"numpy-array-comma\">,</span><span class='numpy-array-slice numpy-array-ndim-2 numpy-array-ndim-m1 numpy-array-horizontal' title='[0,2,:]'><span class=\"numpy-array-bracket numpy-array-bracket-open\">[</span><span class='numpy-array-slice numpy-array-ndim-3 numpy-array-ndim-m0 numpy-array-vertical' title='[0,2,0]'>20</span><span class=\"numpy-array-comma\">,</span><span class='numpy-array-slice numpy-array-ndim-3 numpy-array-ndim-m0 numpy-array-vertical' title='[0,2,1]'>21</span><span class=\"numpy-array-comma\">,</span><span class='numpy-array-slice numpy-array-ndim-3 numpy-array-ndim-m0 numpy-array-vertical' title='[0,2,2]'>22</span><span class=\"numpy-array-comma\">,</span><span class='numpy-array-slice numpy-array-ndim-3 numpy-array-ndim-m0 numpy-array-vertical' title='[0,2,3]'>23</span><span class=\"numpy-array-comma\">,</span><span class='numpy-array-slice numpy-array-ndim-3 numpy-array-ndim-m0 numpy-array-vertical' title='[0,2,4]'>24</span><span class=\"numpy-array-comma\">,</span><span class='numpy-array-slice numpy-array-ndim-3 numpy-array-ndim-m0 numpy-array-vertical' title='[0,2,5]'>25</span><span class=\"numpy-array-comma\">,</span><span class='numpy-array-slice numpy-array-ndim-3 numpy-array-ndim-m0 numpy-array-vertical' title='[0,2,6]'>26</span><span class=\"numpy-array-comma\">,</span><span class='numpy-array-slice numpy-array-ndim-3 numpy-array-ndim-m0 numpy-array-vertical' title='[0,2,7]'>27</span><span class=\"numpy-array-comma\">,</span><span class='numpy-array-slice numpy-array-ndim-3 numpy-array-ndim-m0 numpy-array-vertical' title='[0,2,8]'>28</span><span class=\"numpy-array-comma\">,</span><span class='numpy-array-slice numpy-array-ndim-3 numpy-array-ndim-m0 numpy-array-vertical' title='[0,2,9]'>29</span><span class=\"numpy-array-bracket numpy-array-bracket-close\">]</span></span><span class=\"numpy-array-bracket numpy-array-bracket-close\">]</span></span><span class=\"numpy-array-comma\">,</span><span class='numpy-array-slice numpy-array-ndim-1 numpy-array-ndim-m2 numpy-array-vertical' title='[1,:,:]'><span class=\"numpy-array-bracket numpy-array-bracket-open\">[</span><span class='numpy-array-slice numpy-array-ndim-2 numpy-array-ndim-m1 numpy-array-horizontal' title='[1,0,:]'><span class=\"numpy-array-bracket numpy-array-bracket-open\">[</span><span class='numpy-array-slice numpy-array-ndim-3 numpy-array-ndim-m0 numpy-array-vertical' title='[1,0,0]'>30</span><span class=\"numpy-array-comma\">,</span><span class='numpy-array-slice numpy-array-ndim-3 numpy-array-ndim-m0 numpy-array-vertical' title='[1,0,1]'>31</span><span class=\"numpy-array-comma\">,</span><span class='numpy-array-slice numpy-array-ndim-3 numpy-array-ndim-m0 numpy-array-vertical' title='[1,0,2]'>32</span><span class=\"numpy-array-comma\">,</span><span class='numpy-array-slice numpy-array-ndim-3 numpy-array-ndim-m0 numpy-array-vertical' title='[1,0,3]'>33</span><span class=\"numpy-array-comma\">,</span><span class='numpy-array-slice numpy-array-ndim-3 numpy-array-ndim-m0 numpy-array-vertical' title='[1,0,4]'>34</span><span class=\"numpy-array-comma\">,</span><span class='numpy-array-slice numpy-array-ndim-3 numpy-array-ndim-m0 numpy-array-vertical' title='[1,0,5]'>35</span><span class=\"numpy-array-comma\">,</span><span class='numpy-array-slice numpy-array-ndim-3 numpy-array-ndim-m0 numpy-array-vertical' title='[1,0,6]'>36</span><span class=\"numpy-array-comma\">,</span><span class='numpy-array-slice numpy-array-ndim-3 numpy-array-ndim-m0 numpy-array-vertical' title='[1,0,7]'>37</span><span class=\"numpy-array-comma\">,</span><span class='numpy-array-slice numpy-array-ndim-3 numpy-array-ndim-m0 numpy-array-vertical' title='[1,0,8]'>38</span><span class=\"numpy-array-comma\">,</span><span class='numpy-array-slice numpy-array-ndim-3 numpy-array-ndim-m0 numpy-array-vertical' title='[1,0,9]'>39</span><span class=\"numpy-array-bracket numpy-array-bracket-close\">]</span></span><span class=\"numpy-array-comma\">,</span><span class='numpy-array-slice numpy-array-ndim-2 numpy-array-ndim-m1 numpy-array-horizontal' title='[1,1,:]'><span class=\"numpy-array-bracket numpy-array-bracket-open\">[</span><span class='numpy-array-slice numpy-array-ndim-3 numpy-array-ndim-m0 numpy-array-vertical' title='[1,1,0]'>40</span><span class=\"numpy-array-comma\">,</span><span class='numpy-array-slice numpy-array-ndim-3 numpy-array-ndim-m0 numpy-array-vertical' title='[1,1,1]'>41</span><span class=\"numpy-array-comma\">,</span><span class='numpy-array-slice numpy-array-ndim-3 numpy-array-ndim-m0 numpy-array-vertical' title='[1,1,2]'>42</span><span class=\"numpy-array-comma\">,</span><span class='numpy-array-slice numpy-array-ndim-3 numpy-array-ndim-m0 numpy-array-vertical' title='[1,1,3]'>43</span><span class=\"numpy-array-comma\">,</span><span class='numpy-array-slice numpy-array-ndim-3 numpy-array-ndim-m0 numpy-array-vertical' title='[1,1,4]'>44</span><span class=\"numpy-array-comma\">,</span><span class='numpy-array-slice numpy-array-ndim-3 numpy-array-ndim-m0 numpy-array-vertical' title='[1,1,5]'>45</span><span class=\"numpy-array-comma\">,</span><span class='numpy-array-slice numpy-array-ndim-3 numpy-array-ndim-m0 numpy-array-vertical' title='[1,1,6]'>46</span><span class=\"numpy-array-comma\">,</span><span class='numpy-array-slice numpy-array-ndim-3 numpy-array-ndim-m0 numpy-array-vertical' title='[1,1,7]'>47</span><span class=\"numpy-array-comma\">,</span><span class='numpy-array-slice numpy-array-ndim-3 numpy-array-ndim-m0 numpy-array-vertical' title='[1,1,8]'>48</span><span class=\"numpy-array-comma\">,</span><span class='numpy-array-slice numpy-array-ndim-3 numpy-array-ndim-m0 numpy-array-vertical' title='[1,1,9]'>49</span><span class=\"numpy-array-bracket numpy-array-bracket-close\">]</span></span><span class=\"numpy-array-comma\">,</span><span class='numpy-array-slice numpy-array-ndim-2 numpy-array-ndim-m1 numpy-array-horizontal' title='[1,2,:]'><span class=\"numpy-array-bracket numpy-array-bracket-open\">[</span><span class='numpy-array-slice numpy-array-ndim-3 numpy-array-ndim-m0 numpy-array-vertical' title='[1,2,0]'>50</span><span class=\"numpy-array-comma\">,</span><span class='numpy-array-slice numpy-array-ndim-3 numpy-array-ndim-m0 numpy-array-vertical' title='[1,2,1]'>51</span><span class=\"numpy-array-comma\">,</span><span class='numpy-array-slice numpy-array-ndim-3 numpy-array-ndim-m0 numpy-array-vertical' title='[1,2,2]'>52</span><span class=\"numpy-array-comma\">,</span><span class='numpy-array-slice numpy-array-ndim-3 numpy-array-ndim-m0 numpy-array-vertical' title='[1,2,3]'>53</span><span class=\"numpy-array-comma\">,</span><span class='numpy-array-slice numpy-array-ndim-3 numpy-array-ndim-m0 numpy-array-vertical' title='[1,2,4]'>54</span><span class=\"numpy-array-comma\">,</span><span class='numpy-array-slice numpy-array-ndim-3 numpy-array-ndim-m0 numpy-array-vertical' title='[1,2,5]'>55</span><span class=\"numpy-array-comma\">,</span><span class='numpy-array-slice numpy-array-ndim-3 numpy-array-ndim-m0 numpy-array-vertical' title='[1,2,6]'>56</span><span class=\"numpy-array-comma\">,</span><span class='numpy-array-slice numpy-array-ndim-3 numpy-array-ndim-m0 numpy-array-vertical' title='[1,2,7]'>57</span><span class=\"numpy-array-comma\">,</span><span class='numpy-array-slice numpy-array-ndim-3 numpy-array-ndim-m0 numpy-array-vertical' title='[1,2,8]'>58</span><span class=\"numpy-array-comma\">,</span><span class='numpy-array-slice numpy-array-ndim-3 numpy-array-ndim-m0 numpy-array-vertical' title='[1,2,9]'>59</span><span class=\"numpy-array-bracket numpy-array-bracket-close\">]</span></span><span class=\"numpy-array-bracket numpy-array-bracket-close\">]</span></span><span class=\"numpy-array-bracket numpy-array-bracket-close\">]</span></span></div>"
      ],
      "text/plain": [
       "<IPython.core.display.HTML object>"
      ]
     },
     "execution_count": 3,
     "metadata": {},
     "output_type": "execute_result"
    }
   ],
   "source": [
    "make_pretty(arr_3d)"
   ]
  },
  {
   "cell_type": "markdown",
   "metadata": {},
   "source": [
    "Hover over the cells and rows above for a tooltip of their index\n",
    "\n",
    "Bonus: the above can be copied into a python shell!\n",
    "\n",
    "Some other variants:\n"
   ]
  },
  {
   "cell_type": "code",
   "execution_count": 4,
   "metadata": {},
   "outputs": [
    {
     "data": {
      "text/html": [
       "<style>\n",
       "    .numpy-array {\n",
       "        display: inline-block;\n",
       "    }\n",
       "    .numpy-array .numpy-array-slice {\n",
       "        border: 1px solid #cfcfcf;\n",
       "        border-radius: 4px;\n",
       "        margin: 1px;\n",
       "        padding: 1px;\n",
       "        display: flex;\n",
       "        flex: 1;\n",
       "        text-align: right;\n",
       "        position: relative;\n",
       "    }\n",
       "    .numpy-array .numpy-array-slice:hover {\n",
       "        border: 1px solid #66BB6A;\n",
       "    }\n",
       "    .numpy-array .numpy-array-slice.numpy-array-vertical {\n",
       "        flex-direction: column;\n",
       "    }\n",
       "    .numpy-array .numpy-array-slice.numpy-array-horizontal {\n",
       "        flex-direction: row;\n",
       "    }\n",
       "    .numpy-array .numpy-array-ndim-m0 {\n",
       "        padding: 0 0.5ex;\n",
       "    }\n",
       "    \n",
       "    /* Hide the comma and square bracket characters which exist to help with copy paste */\n",
       "    .numpy-array .numpy-array-bracket {\n",
       "        font-size: 0;\n",
       "        position: absolute;\n",
       "    }\n",
       "    .numpy-array span .numpy-array-comma {\n",
       "        font-size: 0;\n",
       "        height: 0;\n",
       "    }\n",
       "\n",
       "    .numpy-array.show-brackets .numpy-array-slice {\n",
       "        border-radius: 0;\n",
       "    }\n",
       "    .numpy-array.show-brackets .numpy-array-bracket {\n",
       "        border: 1px solid black; \n",
       "        border-radius: 0;  /* looks better without... */\n",
       "    }\n",
       "    .numpy-array.show-brackets .numpy-array-horizontal > .numpy-array-bracket-open {\n",
       "        top: -1px;\n",
       "        bottom: -1px;\n",
       "        left: -1px;\n",
       "        width: 10px;\n",
       "        border-right: none;\n",
       "        border-top-right-radius: 0;\n",
       "        border-bottom-right-radius: 0;\n",
       "    }\n",
       "    .numpy-array.show-brackets .numpy-array-horizontal > .numpy-array-bracket-close {\n",
       "        top: -1px;\n",
       "        bottom: -1px;\n",
       "        right: -1px;\n",
       "        width: 10px;\n",
       "        border-left: none;\n",
       "        border-top-left-radius: 0;\n",
       "        border-bottom-left-radius: 0;\n",
       "    }\n",
       "    .numpy-array.show-brackets .numpy-array-vertical > .numpy-array-bracket-open {\n",
       "        top: -1px;\n",
       "        right: -1px;\n",
       "        left: -1px;\n",
       "        height: 10px;\n",
       "        border-bottom: none;\n",
       "        border-bottom-right-radius: 0;\n",
       "        border-bottom-left-radius: 0;\n",
       "    }\n",
       "    .numpy-array.show-brackets .numpy-array-vertical > .numpy-array-bracket-close {\n",
       "        left: -1px;\n",
       "        bottom: -1px;\n",
       "        right: -1px;\n",
       "        height: 10px;\n",
       "        border-top: none;\n",
       "        border-top-right-radius: 0;\n",
       "        border-top-left-radius: 0;\n",
       "    }\n",
       "</style><div class='numpy-array show-brackets'><span class='numpy-array-slice numpy-array-ndim-0 numpy-array-ndim-m3 numpy-array-vertical' title='[:,:,:]'><span class=\"numpy-array-bracket numpy-array-bracket-open\">[</span><span class='numpy-array-slice numpy-array-ndim-1 numpy-array-ndim-m2 numpy-array-vertical' title='[0,:,:]'><span class=\"numpy-array-bracket numpy-array-bracket-open\">[</span><span class='numpy-array-slice numpy-array-ndim-2 numpy-array-ndim-m1 numpy-array-horizontal' title='[0,0,:]'><span class=\"numpy-array-bracket numpy-array-bracket-open\">[</span><span class='numpy-array-slice numpy-array-ndim-3 numpy-array-ndim-m0 numpy-array-vertical' title='[0,0,0]'>0</span><span class=\"numpy-array-comma\">,</span><span class='numpy-array-slice numpy-array-ndim-3 numpy-array-ndim-m0 numpy-array-vertical' title='[0,0,1]'>1</span><span class=\"numpy-array-comma\">,</span><span class='numpy-array-slice numpy-array-ndim-3 numpy-array-ndim-m0 numpy-array-vertical' title='[0,0,2]'>2</span><span class=\"numpy-array-comma\">,</span><span class='numpy-array-slice numpy-array-ndim-3 numpy-array-ndim-m0 numpy-array-vertical' title='[0,0,3]'>3</span><span class=\"numpy-array-comma\">,</span><span class='numpy-array-slice numpy-array-ndim-3 numpy-array-ndim-m0 numpy-array-vertical' title='[0,0,4]'>4</span><span class=\"numpy-array-comma\">,</span><span class='numpy-array-slice numpy-array-ndim-3 numpy-array-ndim-m0 numpy-array-vertical' title='[0,0,5]'>5</span><span class=\"numpy-array-comma\">,</span><span class='numpy-array-slice numpy-array-ndim-3 numpy-array-ndim-m0 numpy-array-vertical' title='[0,0,6]'>6</span><span class=\"numpy-array-comma\">,</span><span class='numpy-array-slice numpy-array-ndim-3 numpy-array-ndim-m0 numpy-array-vertical' title='[0,0,7]'>7</span><span class=\"numpy-array-comma\">,</span><span class='numpy-array-slice numpy-array-ndim-3 numpy-array-ndim-m0 numpy-array-vertical' title='[0,0,8]'>8</span><span class=\"numpy-array-comma\">,</span><span class='numpy-array-slice numpy-array-ndim-3 numpy-array-ndim-m0 numpy-array-vertical' title='[0,0,9]'>9</span><span class=\"numpy-array-bracket numpy-array-bracket-close\">]</span></span><span class=\"numpy-array-comma\">,</span><span class='numpy-array-slice numpy-array-ndim-2 numpy-array-ndim-m1 numpy-array-horizontal' title='[0,1,:]'><span class=\"numpy-array-bracket numpy-array-bracket-open\">[</span><span class='numpy-array-slice numpy-array-ndim-3 numpy-array-ndim-m0 numpy-array-vertical' title='[0,1,0]'>10</span><span class=\"numpy-array-comma\">,</span><span class='numpy-array-slice numpy-array-ndim-3 numpy-array-ndim-m0 numpy-array-vertical' title='[0,1,1]'>11</span><span class=\"numpy-array-comma\">,</span><span class='numpy-array-slice numpy-array-ndim-3 numpy-array-ndim-m0 numpy-array-vertical' title='[0,1,2]'>12</span><span class=\"numpy-array-comma\">,</span><span class='numpy-array-slice numpy-array-ndim-3 numpy-array-ndim-m0 numpy-array-vertical' title='[0,1,3]'>13</span><span class=\"numpy-array-comma\">,</span><span class='numpy-array-slice numpy-array-ndim-3 numpy-array-ndim-m0 numpy-array-vertical' title='[0,1,4]'>14</span><span class=\"numpy-array-comma\">,</span><span class='numpy-array-slice numpy-array-ndim-3 numpy-array-ndim-m0 numpy-array-vertical' title='[0,1,5]'>15</span><span class=\"numpy-array-comma\">,</span><span class='numpy-array-slice numpy-array-ndim-3 numpy-array-ndim-m0 numpy-array-vertical' title='[0,1,6]'>16</span><span class=\"numpy-array-comma\">,</span><span class='numpy-array-slice numpy-array-ndim-3 numpy-array-ndim-m0 numpy-array-vertical' title='[0,1,7]'>17</span><span class=\"numpy-array-comma\">,</span><span class='numpy-array-slice numpy-array-ndim-3 numpy-array-ndim-m0 numpy-array-vertical' title='[0,1,8]'>18</span><span class=\"numpy-array-comma\">,</span><span class='numpy-array-slice numpy-array-ndim-3 numpy-array-ndim-m0 numpy-array-vertical' title='[0,1,9]'>19</span><span class=\"numpy-array-bracket numpy-array-bracket-close\">]</span></span><span class=\"numpy-array-comma\">,</span><span class='numpy-array-slice numpy-array-ndim-2 numpy-array-ndim-m1 numpy-array-horizontal' title='[0,2,:]'><span class=\"numpy-array-bracket numpy-array-bracket-open\">[</span><span class='numpy-array-slice numpy-array-ndim-3 numpy-array-ndim-m0 numpy-array-vertical' title='[0,2,0]'>20</span><span class=\"numpy-array-comma\">,</span><span class='numpy-array-slice numpy-array-ndim-3 numpy-array-ndim-m0 numpy-array-vertical' title='[0,2,1]'>21</span><span class=\"numpy-array-comma\">,</span><span class='numpy-array-slice numpy-array-ndim-3 numpy-array-ndim-m0 numpy-array-vertical' title='[0,2,2]'>22</span><span class=\"numpy-array-comma\">,</span><span class='numpy-array-slice numpy-array-ndim-3 numpy-array-ndim-m0 numpy-array-vertical' title='[0,2,3]'>23</span><span class=\"numpy-array-comma\">,</span><span class='numpy-array-slice numpy-array-ndim-3 numpy-array-ndim-m0 numpy-array-vertical' title='[0,2,4]'>24</span><span class=\"numpy-array-comma\">,</span><span class='numpy-array-slice numpy-array-ndim-3 numpy-array-ndim-m0 numpy-array-vertical' title='[0,2,5]'>25</span><span class=\"numpy-array-comma\">,</span><span class='numpy-array-slice numpy-array-ndim-3 numpy-array-ndim-m0 numpy-array-vertical' title='[0,2,6]'>26</span><span class=\"numpy-array-comma\">,</span><span class='numpy-array-slice numpy-array-ndim-3 numpy-array-ndim-m0 numpy-array-vertical' title='[0,2,7]'>27</span><span class=\"numpy-array-comma\">,</span><span class='numpy-array-slice numpy-array-ndim-3 numpy-array-ndim-m0 numpy-array-vertical' title='[0,2,8]'>28</span><span class=\"numpy-array-comma\">,</span><span class='numpy-array-slice numpy-array-ndim-3 numpy-array-ndim-m0 numpy-array-vertical' title='[0,2,9]'>29</span><span class=\"numpy-array-bracket numpy-array-bracket-close\">]</span></span><span class=\"numpy-array-bracket numpy-array-bracket-close\">]</span></span><span class=\"numpy-array-comma\">,</span><span class='numpy-array-slice numpy-array-ndim-1 numpy-array-ndim-m2 numpy-array-vertical' title='[1,:,:]'><span class=\"numpy-array-bracket numpy-array-bracket-open\">[</span><span class='numpy-array-slice numpy-array-ndim-2 numpy-array-ndim-m1 numpy-array-horizontal' title='[1,0,:]'><span class=\"numpy-array-bracket numpy-array-bracket-open\">[</span><span class='numpy-array-slice numpy-array-ndim-3 numpy-array-ndim-m0 numpy-array-vertical' title='[1,0,0]'>30</span><span class=\"numpy-array-comma\">,</span><span class='numpy-array-slice numpy-array-ndim-3 numpy-array-ndim-m0 numpy-array-vertical' title='[1,0,1]'>31</span><span class=\"numpy-array-comma\">,</span><span class='numpy-array-slice numpy-array-ndim-3 numpy-array-ndim-m0 numpy-array-vertical' title='[1,0,2]'>32</span><span class=\"numpy-array-comma\">,</span><span class='numpy-array-slice numpy-array-ndim-3 numpy-array-ndim-m0 numpy-array-vertical' title='[1,0,3]'>33</span><span class=\"numpy-array-comma\">,</span><span class='numpy-array-slice numpy-array-ndim-3 numpy-array-ndim-m0 numpy-array-vertical' title='[1,0,4]'>34</span><span class=\"numpy-array-comma\">,</span><span class='numpy-array-slice numpy-array-ndim-3 numpy-array-ndim-m0 numpy-array-vertical' title='[1,0,5]'>35</span><span class=\"numpy-array-comma\">,</span><span class='numpy-array-slice numpy-array-ndim-3 numpy-array-ndim-m0 numpy-array-vertical' title='[1,0,6]'>36</span><span class=\"numpy-array-comma\">,</span><span class='numpy-array-slice numpy-array-ndim-3 numpy-array-ndim-m0 numpy-array-vertical' title='[1,0,7]'>37</span><span class=\"numpy-array-comma\">,</span><span class='numpy-array-slice numpy-array-ndim-3 numpy-array-ndim-m0 numpy-array-vertical' title='[1,0,8]'>38</span><span class=\"numpy-array-comma\">,</span><span class='numpy-array-slice numpy-array-ndim-3 numpy-array-ndim-m0 numpy-array-vertical' title='[1,0,9]'>39</span><span class=\"numpy-array-bracket numpy-array-bracket-close\">]</span></span><span class=\"numpy-array-comma\">,</span><span class='numpy-array-slice numpy-array-ndim-2 numpy-array-ndim-m1 numpy-array-horizontal' title='[1,1,:]'><span class=\"numpy-array-bracket numpy-array-bracket-open\">[</span><span class='numpy-array-slice numpy-array-ndim-3 numpy-array-ndim-m0 numpy-array-vertical' title='[1,1,0]'>40</span><span class=\"numpy-array-comma\">,</span><span class='numpy-array-slice numpy-array-ndim-3 numpy-array-ndim-m0 numpy-array-vertical' title='[1,1,1]'>41</span><span class=\"numpy-array-comma\">,</span><span class='numpy-array-slice numpy-array-ndim-3 numpy-array-ndim-m0 numpy-array-vertical' title='[1,1,2]'>42</span><span class=\"numpy-array-comma\">,</span><span class='numpy-array-slice numpy-array-ndim-3 numpy-array-ndim-m0 numpy-array-vertical' title='[1,1,3]'>43</span><span class=\"numpy-array-comma\">,</span><span class='numpy-array-slice numpy-array-ndim-3 numpy-array-ndim-m0 numpy-array-vertical' title='[1,1,4]'>44</span><span class=\"numpy-array-comma\">,</span><span class='numpy-array-slice numpy-array-ndim-3 numpy-array-ndim-m0 numpy-array-vertical' title='[1,1,5]'>45</span><span class=\"numpy-array-comma\">,</span><span class='numpy-array-slice numpy-array-ndim-3 numpy-array-ndim-m0 numpy-array-vertical' title='[1,1,6]'>46</span><span class=\"numpy-array-comma\">,</span><span class='numpy-array-slice numpy-array-ndim-3 numpy-array-ndim-m0 numpy-array-vertical' title='[1,1,7]'>47</span><span class=\"numpy-array-comma\">,</span><span class='numpy-array-slice numpy-array-ndim-3 numpy-array-ndim-m0 numpy-array-vertical' title='[1,1,8]'>48</span><span class=\"numpy-array-comma\">,</span><span class='numpy-array-slice numpy-array-ndim-3 numpy-array-ndim-m0 numpy-array-vertical' title='[1,1,9]'>49</span><span class=\"numpy-array-bracket numpy-array-bracket-close\">]</span></span><span class=\"numpy-array-comma\">,</span><span class='numpy-array-slice numpy-array-ndim-2 numpy-array-ndim-m1 numpy-array-horizontal' title='[1,2,:]'><span class=\"numpy-array-bracket numpy-array-bracket-open\">[</span><span class='numpy-array-slice numpy-array-ndim-3 numpy-array-ndim-m0 numpy-array-vertical' title='[1,2,0]'>50</span><span class=\"numpy-array-comma\">,</span><span class='numpy-array-slice numpy-array-ndim-3 numpy-array-ndim-m0 numpy-array-vertical' title='[1,2,1]'>51</span><span class=\"numpy-array-comma\">,</span><span class='numpy-array-slice numpy-array-ndim-3 numpy-array-ndim-m0 numpy-array-vertical' title='[1,2,2]'>52</span><span class=\"numpy-array-comma\">,</span><span class='numpy-array-slice numpy-array-ndim-3 numpy-array-ndim-m0 numpy-array-vertical' title='[1,2,3]'>53</span><span class=\"numpy-array-comma\">,</span><span class='numpy-array-slice numpy-array-ndim-3 numpy-array-ndim-m0 numpy-array-vertical' title='[1,2,4]'>54</span><span class=\"numpy-array-comma\">,</span><span class='numpy-array-slice numpy-array-ndim-3 numpy-array-ndim-m0 numpy-array-vertical' title='[1,2,5]'>55</span><span class=\"numpy-array-comma\">,</span><span class='numpy-array-slice numpy-array-ndim-3 numpy-array-ndim-m0 numpy-array-vertical' title='[1,2,6]'>56</span><span class=\"numpy-array-comma\">,</span><span class='numpy-array-slice numpy-array-ndim-3 numpy-array-ndim-m0 numpy-array-vertical' title='[1,2,7]'>57</span><span class=\"numpy-array-comma\">,</span><span class='numpy-array-slice numpy-array-ndim-3 numpy-array-ndim-m0 numpy-array-vertical' title='[1,2,8]'>58</span><span class=\"numpy-array-comma\">,</span><span class='numpy-array-slice numpy-array-ndim-3 numpy-array-ndim-m0 numpy-array-vertical' title='[1,2,9]'>59</span><span class=\"numpy-array-bracket numpy-array-bracket-close\">]</span></span><span class=\"numpy-array-bracket numpy-array-bracket-close\">]</span></span><span class=\"numpy-array-bracket numpy-array-bracket-close\">]</span></span></div>"
      ],
      "text/plain": [
       "<IPython.core.display.HTML object>"
      ]
     },
     "execution_count": 4,
     "metadata": {},
     "output_type": "execute_result"
    }
   ],
   "source": [
    "make_pretty(arr_3d, show_brackets=True)"
   ]
  },
  {
   "cell_type": "code",
   "execution_count": 5,
   "metadata": {},
   "outputs": [
    {
     "data": {
      "text/html": [
       "<style>\n",
       "    .numpy-array {\n",
       "        display: inline-block;\n",
       "    }\n",
       "    .numpy-array .numpy-array-slice {\n",
       "        border: 1px solid #cfcfcf;\n",
       "        border-radius: 4px;\n",
       "        margin: 1px;\n",
       "        padding: 1px;\n",
       "        display: flex;\n",
       "        flex: 1;\n",
       "        text-align: right;\n",
       "        position: relative;\n",
       "    }\n",
       "    .numpy-array .numpy-array-slice:hover {\n",
       "        border: 1px solid #66BB6A;\n",
       "    }\n",
       "    .numpy-array .numpy-array-slice.numpy-array-vertical {\n",
       "        flex-direction: column;\n",
       "    }\n",
       "    .numpy-array .numpy-array-slice.numpy-array-horizontal {\n",
       "        flex-direction: row;\n",
       "    }\n",
       "    .numpy-array .numpy-array-ndim-m0 {\n",
       "        padding: 0 0.5ex;\n",
       "    }\n",
       "    \n",
       "    /* Hide the comma and square bracket characters which exist to help with copy paste */\n",
       "    .numpy-array .numpy-array-bracket {\n",
       "        font-size: 0;\n",
       "        position: absolute;\n",
       "    }\n",
       "    .numpy-array span .numpy-array-comma {\n",
       "        font-size: 0;\n",
       "        height: 0;\n",
       "    }\n",
       "\n",
       "    .numpy-array.show-brackets .numpy-array-slice {\n",
       "        border-radius: 0;\n",
       "    }\n",
       "    .numpy-array.show-brackets .numpy-array-bracket {\n",
       "        border: 1px solid black; \n",
       "        border-radius: 0;  /* looks better without... */\n",
       "    }\n",
       "    .numpy-array.show-brackets .numpy-array-horizontal > .numpy-array-bracket-open {\n",
       "        top: -1px;\n",
       "        bottom: -1px;\n",
       "        left: -1px;\n",
       "        width: 10px;\n",
       "        border-right: none;\n",
       "        border-top-right-radius: 0;\n",
       "        border-bottom-right-radius: 0;\n",
       "    }\n",
       "    .numpy-array.show-brackets .numpy-array-horizontal > .numpy-array-bracket-close {\n",
       "        top: -1px;\n",
       "        bottom: -1px;\n",
       "        right: -1px;\n",
       "        width: 10px;\n",
       "        border-left: none;\n",
       "        border-top-left-radius: 0;\n",
       "        border-bottom-left-radius: 0;\n",
       "    }\n",
       "    .numpy-array.show-brackets .numpy-array-vertical > .numpy-array-bracket-open {\n",
       "        top: -1px;\n",
       "        right: -1px;\n",
       "        left: -1px;\n",
       "        height: 10px;\n",
       "        border-bottom: none;\n",
       "        border-bottom-right-radius: 0;\n",
       "        border-bottom-left-radius: 0;\n",
       "    }\n",
       "    .numpy-array.show-brackets .numpy-array-vertical > .numpy-array-bracket-close {\n",
       "        left: -1px;\n",
       "        bottom: -1px;\n",
       "        right: -1px;\n",
       "        height: 10px;\n",
       "        border-top: none;\n",
       "        border-top-right-radius: 0;\n",
       "        border-top-left-radius: 0;\n",
       "    }\n",
       "</style><div class='numpy-array show-brackets'><span class='numpy-array-slice numpy-array-ndim-0 numpy-array-ndim-m3 numpy-array-horizontal' title='[:,:,:]'><span class=\"numpy-array-bracket numpy-array-bracket-open\">[</span><span class='numpy-array-slice numpy-array-ndim-1 numpy-array-ndim-m2 numpy-array-vertical' title='[0,:,:]'><span class=\"numpy-array-bracket numpy-array-bracket-open\">[</span><span class='numpy-array-slice numpy-array-ndim-2 numpy-array-ndim-m1 numpy-array-horizontal' title='[0,0,:]'><span class=\"numpy-array-bracket numpy-array-bracket-open\">[</span><span class='numpy-array-slice numpy-array-ndim-3 numpy-array-ndim-m0 numpy-array-vertical' title='[0,0,0]'>0</span><span class=\"numpy-array-comma\">,</span><span class='numpy-array-slice numpy-array-ndim-3 numpy-array-ndim-m0 numpy-array-vertical' title='[0,0,1]'>1</span><span class=\"numpy-array-comma\">,</span><span class='numpy-array-slice numpy-array-ndim-3 numpy-array-ndim-m0 numpy-array-vertical' title='[0,0,2]'>2</span><span class=\"numpy-array-comma\">,</span><span class='numpy-array-slice numpy-array-ndim-3 numpy-array-ndim-m0 numpy-array-vertical' title='[0,0,3]'>3</span><span class=\"numpy-array-comma\">,</span><span class='numpy-array-slice numpy-array-ndim-3 numpy-array-ndim-m0 numpy-array-vertical' title='[0,0,4]'>4</span><span class=\"numpy-array-comma\">,</span><span class='numpy-array-slice numpy-array-ndim-3 numpy-array-ndim-m0 numpy-array-vertical' title='[0,0,5]'>5</span><span class=\"numpy-array-comma\">,</span><span class='numpy-array-slice numpy-array-ndim-3 numpy-array-ndim-m0 numpy-array-vertical' title='[0,0,6]'>6</span><span class=\"numpy-array-comma\">,</span><span class='numpy-array-slice numpy-array-ndim-3 numpy-array-ndim-m0 numpy-array-vertical' title='[0,0,7]'>7</span><span class=\"numpy-array-comma\">,</span><span class='numpy-array-slice numpy-array-ndim-3 numpy-array-ndim-m0 numpy-array-vertical' title='[0,0,8]'>8</span><span class=\"numpy-array-comma\">,</span><span class='numpy-array-slice numpy-array-ndim-3 numpy-array-ndim-m0 numpy-array-vertical' title='[0,0,9]'>9</span><span class=\"numpy-array-bracket numpy-array-bracket-close\">]</span></span><span class=\"numpy-array-comma\">,</span><span class='numpy-array-slice numpy-array-ndim-2 numpy-array-ndim-m1 numpy-array-horizontal' title='[0,1,:]'><span class=\"numpy-array-bracket numpy-array-bracket-open\">[</span><span class='numpy-array-slice numpy-array-ndim-3 numpy-array-ndim-m0 numpy-array-vertical' title='[0,1,0]'>10</span><span class=\"numpy-array-comma\">,</span><span class='numpy-array-slice numpy-array-ndim-3 numpy-array-ndim-m0 numpy-array-vertical' title='[0,1,1]'>11</span><span class=\"numpy-array-comma\">,</span><span class='numpy-array-slice numpy-array-ndim-3 numpy-array-ndim-m0 numpy-array-vertical' title='[0,1,2]'>12</span><span class=\"numpy-array-comma\">,</span><span class='numpy-array-slice numpy-array-ndim-3 numpy-array-ndim-m0 numpy-array-vertical' title='[0,1,3]'>13</span><span class=\"numpy-array-comma\">,</span><span class='numpy-array-slice numpy-array-ndim-3 numpy-array-ndim-m0 numpy-array-vertical' title='[0,1,4]'>14</span><span class=\"numpy-array-comma\">,</span><span class='numpy-array-slice numpy-array-ndim-3 numpy-array-ndim-m0 numpy-array-vertical' title='[0,1,5]'>15</span><span class=\"numpy-array-comma\">,</span><span class='numpy-array-slice numpy-array-ndim-3 numpy-array-ndim-m0 numpy-array-vertical' title='[0,1,6]'>16</span><span class=\"numpy-array-comma\">,</span><span class='numpy-array-slice numpy-array-ndim-3 numpy-array-ndim-m0 numpy-array-vertical' title='[0,1,7]'>17</span><span class=\"numpy-array-comma\">,</span><span class='numpy-array-slice numpy-array-ndim-3 numpy-array-ndim-m0 numpy-array-vertical' title='[0,1,8]'>18</span><span class=\"numpy-array-comma\">,</span><span class='numpy-array-slice numpy-array-ndim-3 numpy-array-ndim-m0 numpy-array-vertical' title='[0,1,9]'>19</span><span class=\"numpy-array-bracket numpy-array-bracket-close\">]</span></span><span class=\"numpy-array-comma\">,</span><span class='numpy-array-slice numpy-array-ndim-2 numpy-array-ndim-m1 numpy-array-horizontal' title='[0,2,:]'><span class=\"numpy-array-bracket numpy-array-bracket-open\">[</span><span class='numpy-array-slice numpy-array-ndim-3 numpy-array-ndim-m0 numpy-array-vertical' title='[0,2,0]'>20</span><span class=\"numpy-array-comma\">,</span><span class='numpy-array-slice numpy-array-ndim-3 numpy-array-ndim-m0 numpy-array-vertical' title='[0,2,1]'>21</span><span class=\"numpy-array-comma\">,</span><span class='numpy-array-slice numpy-array-ndim-3 numpy-array-ndim-m0 numpy-array-vertical' title='[0,2,2]'>22</span><span class=\"numpy-array-comma\">,</span><span class='numpy-array-slice numpy-array-ndim-3 numpy-array-ndim-m0 numpy-array-vertical' title='[0,2,3]'>23</span><span class=\"numpy-array-comma\">,</span><span class='numpy-array-slice numpy-array-ndim-3 numpy-array-ndim-m0 numpy-array-vertical' title='[0,2,4]'>24</span><span class=\"numpy-array-comma\">,</span><span class='numpy-array-slice numpy-array-ndim-3 numpy-array-ndim-m0 numpy-array-vertical' title='[0,2,5]'>25</span><span class=\"numpy-array-comma\">,</span><span class='numpy-array-slice numpy-array-ndim-3 numpy-array-ndim-m0 numpy-array-vertical' title='[0,2,6]'>26</span><span class=\"numpy-array-comma\">,</span><span class='numpy-array-slice numpy-array-ndim-3 numpy-array-ndim-m0 numpy-array-vertical' title='[0,2,7]'>27</span><span class=\"numpy-array-comma\">,</span><span class='numpy-array-slice numpy-array-ndim-3 numpy-array-ndim-m0 numpy-array-vertical' title='[0,2,8]'>28</span><span class=\"numpy-array-comma\">,</span><span class='numpy-array-slice numpy-array-ndim-3 numpy-array-ndim-m0 numpy-array-vertical' title='[0,2,9]'>29</span><span class=\"numpy-array-bracket numpy-array-bracket-close\">]</span></span><span class=\"numpy-array-bracket numpy-array-bracket-close\">]</span></span><span class=\"numpy-array-comma\">,</span><span class='numpy-array-slice numpy-array-ndim-1 numpy-array-ndim-m2 numpy-array-vertical' title='[1,:,:]'><span class=\"numpy-array-bracket numpy-array-bracket-open\">[</span><span class='numpy-array-slice numpy-array-ndim-2 numpy-array-ndim-m1 numpy-array-horizontal' title='[1,0,:]'><span class=\"numpy-array-bracket numpy-array-bracket-open\">[</span><span class='numpy-array-slice numpy-array-ndim-3 numpy-array-ndim-m0 numpy-array-vertical' title='[1,0,0]'>30</span><span class=\"numpy-array-comma\">,</span><span class='numpy-array-slice numpy-array-ndim-3 numpy-array-ndim-m0 numpy-array-vertical' title='[1,0,1]'>31</span><span class=\"numpy-array-comma\">,</span><span class='numpy-array-slice numpy-array-ndim-3 numpy-array-ndim-m0 numpy-array-vertical' title='[1,0,2]'>32</span><span class=\"numpy-array-comma\">,</span><span class='numpy-array-slice numpy-array-ndim-3 numpy-array-ndim-m0 numpy-array-vertical' title='[1,0,3]'>33</span><span class=\"numpy-array-comma\">,</span><span class='numpy-array-slice numpy-array-ndim-3 numpy-array-ndim-m0 numpy-array-vertical' title='[1,0,4]'>34</span><span class=\"numpy-array-comma\">,</span><span class='numpy-array-slice numpy-array-ndim-3 numpy-array-ndim-m0 numpy-array-vertical' title='[1,0,5]'>35</span><span class=\"numpy-array-comma\">,</span><span class='numpy-array-slice numpy-array-ndim-3 numpy-array-ndim-m0 numpy-array-vertical' title='[1,0,6]'>36</span><span class=\"numpy-array-comma\">,</span><span class='numpy-array-slice numpy-array-ndim-3 numpy-array-ndim-m0 numpy-array-vertical' title='[1,0,7]'>37</span><span class=\"numpy-array-comma\">,</span><span class='numpy-array-slice numpy-array-ndim-3 numpy-array-ndim-m0 numpy-array-vertical' title='[1,0,8]'>38</span><span class=\"numpy-array-comma\">,</span><span class='numpy-array-slice numpy-array-ndim-3 numpy-array-ndim-m0 numpy-array-vertical' title='[1,0,9]'>39</span><span class=\"numpy-array-bracket numpy-array-bracket-close\">]</span></span><span class=\"numpy-array-comma\">,</span><span class='numpy-array-slice numpy-array-ndim-2 numpy-array-ndim-m1 numpy-array-horizontal' title='[1,1,:]'><span class=\"numpy-array-bracket numpy-array-bracket-open\">[</span><span class='numpy-array-slice numpy-array-ndim-3 numpy-array-ndim-m0 numpy-array-vertical' title='[1,1,0]'>40</span><span class=\"numpy-array-comma\">,</span><span class='numpy-array-slice numpy-array-ndim-3 numpy-array-ndim-m0 numpy-array-vertical' title='[1,1,1]'>41</span><span class=\"numpy-array-comma\">,</span><span class='numpy-array-slice numpy-array-ndim-3 numpy-array-ndim-m0 numpy-array-vertical' title='[1,1,2]'>42</span><span class=\"numpy-array-comma\">,</span><span class='numpy-array-slice numpy-array-ndim-3 numpy-array-ndim-m0 numpy-array-vertical' title='[1,1,3]'>43</span><span class=\"numpy-array-comma\">,</span><span class='numpy-array-slice numpy-array-ndim-3 numpy-array-ndim-m0 numpy-array-vertical' title='[1,1,4]'>44</span><span class=\"numpy-array-comma\">,</span><span class='numpy-array-slice numpy-array-ndim-3 numpy-array-ndim-m0 numpy-array-vertical' title='[1,1,5]'>45</span><span class=\"numpy-array-comma\">,</span><span class='numpy-array-slice numpy-array-ndim-3 numpy-array-ndim-m0 numpy-array-vertical' title='[1,1,6]'>46</span><span class=\"numpy-array-comma\">,</span><span class='numpy-array-slice numpy-array-ndim-3 numpy-array-ndim-m0 numpy-array-vertical' title='[1,1,7]'>47</span><span class=\"numpy-array-comma\">,</span><span class='numpy-array-slice numpy-array-ndim-3 numpy-array-ndim-m0 numpy-array-vertical' title='[1,1,8]'>48</span><span class=\"numpy-array-comma\">,</span><span class='numpy-array-slice numpy-array-ndim-3 numpy-array-ndim-m0 numpy-array-vertical' title='[1,1,9]'>49</span><span class=\"numpy-array-bracket numpy-array-bracket-close\">]</span></span><span class=\"numpy-array-comma\">,</span><span class='numpy-array-slice numpy-array-ndim-2 numpy-array-ndim-m1 numpy-array-horizontal' title='[1,2,:]'><span class=\"numpy-array-bracket numpy-array-bracket-open\">[</span><span class='numpy-array-slice numpy-array-ndim-3 numpy-array-ndim-m0 numpy-array-vertical' title='[1,2,0]'>50</span><span class=\"numpy-array-comma\">,</span><span class='numpy-array-slice numpy-array-ndim-3 numpy-array-ndim-m0 numpy-array-vertical' title='[1,2,1]'>51</span><span class=\"numpy-array-comma\">,</span><span class='numpy-array-slice numpy-array-ndim-3 numpy-array-ndim-m0 numpy-array-vertical' title='[1,2,2]'>52</span><span class=\"numpy-array-comma\">,</span><span class='numpy-array-slice numpy-array-ndim-3 numpy-array-ndim-m0 numpy-array-vertical' title='[1,2,3]'>53</span><span class=\"numpy-array-comma\">,</span><span class='numpy-array-slice numpy-array-ndim-3 numpy-array-ndim-m0 numpy-array-vertical' title='[1,2,4]'>54</span><span class=\"numpy-array-comma\">,</span><span class='numpy-array-slice numpy-array-ndim-3 numpy-array-ndim-m0 numpy-array-vertical' title='[1,2,5]'>55</span><span class=\"numpy-array-comma\">,</span><span class='numpy-array-slice numpy-array-ndim-3 numpy-array-ndim-m0 numpy-array-vertical' title='[1,2,6]'>56</span><span class=\"numpy-array-comma\">,</span><span class='numpy-array-slice numpy-array-ndim-3 numpy-array-ndim-m0 numpy-array-vertical' title='[1,2,7]'>57</span><span class=\"numpy-array-comma\">,</span><span class='numpy-array-slice numpy-array-ndim-3 numpy-array-ndim-m0 numpy-array-vertical' title='[1,2,8]'>58</span><span class=\"numpy-array-comma\">,</span><span class='numpy-array-slice numpy-array-ndim-3 numpy-array-ndim-m0 numpy-array-vertical' title='[1,2,9]'>59</span><span class=\"numpy-array-bracket numpy-array-bracket-close\">]</span></span><span class=\"numpy-array-bracket numpy-array-bracket-close\">]</span></span><span class=\"numpy-array-bracket numpy-array-bracket-close\">]</span></span></div>"
      ],
      "text/plain": [
       "<IPython.core.display.HTML object>"
      ]
     },
     "execution_count": 5,
     "metadata": {},
     "output_type": "execute_result"
    }
   ],
   "source": [
    "#alternate between columns and rows\n",
    "make_pretty(arr_3d, show_brackets=True, is_horz=lambda arr, ax: (arr.ndim - ax) % 2)"
   ]
  },
  {
   "cell_type": "code",
   "execution_count": 6,
   "metadata": {},
   "outputs": [
    {
     "data": {
      "text/html": [
       "<style>\n",
       "    .numpy-array {\n",
       "        display: inline-block;\n",
       "    }\n",
       "    .numpy-array .numpy-array-slice {\n",
       "        border: 1px solid #cfcfcf;\n",
       "        border-radius: 4px;\n",
       "        margin: 1px;\n",
       "        padding: 1px;\n",
       "        display: flex;\n",
       "        flex: 1;\n",
       "        text-align: right;\n",
       "        position: relative;\n",
       "    }\n",
       "    .numpy-array .numpy-array-slice:hover {\n",
       "        border: 1px solid #66BB6A;\n",
       "    }\n",
       "    .numpy-array .numpy-array-slice.numpy-array-vertical {\n",
       "        flex-direction: column;\n",
       "    }\n",
       "    .numpy-array .numpy-array-slice.numpy-array-horizontal {\n",
       "        flex-direction: row;\n",
       "    }\n",
       "    .numpy-array .numpy-array-ndim-m0 {\n",
       "        padding: 0 0.5ex;\n",
       "    }\n",
       "    \n",
       "    /* Hide the comma and square bracket characters which exist to help with copy paste */\n",
       "    .numpy-array .numpy-array-bracket {\n",
       "        font-size: 0;\n",
       "        position: absolute;\n",
       "    }\n",
       "    .numpy-array span .numpy-array-comma {\n",
       "        font-size: 0;\n",
       "        height: 0;\n",
       "    }\n",
       "\n",
       "    .numpy-array.show-brackets .numpy-array-slice {\n",
       "        border-radius: 0;\n",
       "    }\n",
       "    .numpy-array.show-brackets .numpy-array-bracket {\n",
       "        border: 1px solid black; \n",
       "        border-radius: 0;  /* looks better without... */\n",
       "    }\n",
       "    .numpy-array.show-brackets .numpy-array-horizontal > .numpy-array-bracket-open {\n",
       "        top: -1px;\n",
       "        bottom: -1px;\n",
       "        left: -1px;\n",
       "        width: 10px;\n",
       "        border-right: none;\n",
       "        border-top-right-radius: 0;\n",
       "        border-bottom-right-radius: 0;\n",
       "    }\n",
       "    .numpy-array.show-brackets .numpy-array-horizontal > .numpy-array-bracket-close {\n",
       "        top: -1px;\n",
       "        bottom: -1px;\n",
       "        right: -1px;\n",
       "        width: 10px;\n",
       "        border-left: none;\n",
       "        border-top-left-radius: 0;\n",
       "        border-bottom-left-radius: 0;\n",
       "    }\n",
       "    .numpy-array.show-brackets .numpy-array-vertical > .numpy-array-bracket-open {\n",
       "        top: -1px;\n",
       "        right: -1px;\n",
       "        left: -1px;\n",
       "        height: 10px;\n",
       "        border-bottom: none;\n",
       "        border-bottom-right-radius: 0;\n",
       "        border-bottom-left-radius: 0;\n",
       "    }\n",
       "    .numpy-array.show-brackets .numpy-array-vertical > .numpy-array-bracket-close {\n",
       "        left: -1px;\n",
       "        bottom: -1px;\n",
       "        right: -1px;\n",
       "        height: 10px;\n",
       "        border-top: none;\n",
       "        border-top-right-radius: 0;\n",
       "        border-top-left-radius: 0;\n",
       "    }\n",
       "</style><div class='numpy-array show-brackets'><span class='numpy-array-slice numpy-array-ndim-0 numpy-array-ndim-m3 numpy-array-vertical' title='[:,:,:]'><span class=\"numpy-array-bracket numpy-array-bracket-open\">[</span><span class='numpy-array-slice numpy-array-ndim-1 numpy-array-ndim-m2 numpy-array-horizontal' title='[0,:,:]'><span class=\"numpy-array-bracket numpy-array-bracket-open\">[</span><span class='numpy-array-slice numpy-array-ndim-2 numpy-array-ndim-m1 numpy-array-vertical' title='[0,0,:]'><span class=\"numpy-array-bracket numpy-array-bracket-open\">[</span><span class='numpy-array-slice numpy-array-ndim-3 numpy-array-ndim-m0 numpy-array-horizontal' title='[0,0,0]'>0</span><span class=\"numpy-array-comma\">,</span><span class='numpy-array-slice numpy-array-ndim-3 numpy-array-ndim-m0 numpy-array-horizontal' title='[0,0,1]'>1</span><span class=\"numpy-array-comma\">,</span><span class='numpy-array-slice numpy-array-ndim-3 numpy-array-ndim-m0 numpy-array-horizontal' title='[0,0,2]'>2</span><span class=\"numpy-array-comma\">,</span><span class='numpy-array-slice numpy-array-ndim-3 numpy-array-ndim-m0 numpy-array-horizontal' title='[0,0,3]'>3</span><span class=\"numpy-array-comma\">,</span><span class='numpy-array-slice numpy-array-ndim-3 numpy-array-ndim-m0 numpy-array-horizontal' title='[0,0,4]'>4</span><span class=\"numpy-array-comma\">,</span><span class='numpy-array-slice numpy-array-ndim-3 numpy-array-ndim-m0 numpy-array-horizontal' title='[0,0,5]'>5</span><span class=\"numpy-array-comma\">,</span><span class='numpy-array-slice numpy-array-ndim-3 numpy-array-ndim-m0 numpy-array-horizontal' title='[0,0,6]'>6</span><span class=\"numpy-array-comma\">,</span><span class='numpy-array-slice numpy-array-ndim-3 numpy-array-ndim-m0 numpy-array-horizontal' title='[0,0,7]'>7</span><span class=\"numpy-array-comma\">,</span><span class='numpy-array-slice numpy-array-ndim-3 numpy-array-ndim-m0 numpy-array-horizontal' title='[0,0,8]'>8</span><span class=\"numpy-array-comma\">,</span><span class='numpy-array-slice numpy-array-ndim-3 numpy-array-ndim-m0 numpy-array-horizontal' title='[0,0,9]'>9</span><span class=\"numpy-array-bracket numpy-array-bracket-close\">]</span></span><span class=\"numpy-array-comma\">,</span><span class='numpy-array-slice numpy-array-ndim-2 numpy-array-ndim-m1 numpy-array-vertical' title='[0,1,:]'><span class=\"numpy-array-bracket numpy-array-bracket-open\">[</span><span class='numpy-array-slice numpy-array-ndim-3 numpy-array-ndim-m0 numpy-array-horizontal' title='[0,1,0]'>10</span><span class=\"numpy-array-comma\">,</span><span class='numpy-array-slice numpy-array-ndim-3 numpy-array-ndim-m0 numpy-array-horizontal' title='[0,1,1]'>11</span><span class=\"numpy-array-comma\">,</span><span class='numpy-array-slice numpy-array-ndim-3 numpy-array-ndim-m0 numpy-array-horizontal' title='[0,1,2]'>12</span><span class=\"numpy-array-comma\">,</span><span class='numpy-array-slice numpy-array-ndim-3 numpy-array-ndim-m0 numpy-array-horizontal' title='[0,1,3]'>13</span><span class=\"numpy-array-comma\">,</span><span class='numpy-array-slice numpy-array-ndim-3 numpy-array-ndim-m0 numpy-array-horizontal' title='[0,1,4]'>14</span><span class=\"numpy-array-comma\">,</span><span class='numpy-array-slice numpy-array-ndim-3 numpy-array-ndim-m0 numpy-array-horizontal' title='[0,1,5]'>15</span><span class=\"numpy-array-comma\">,</span><span class='numpy-array-slice numpy-array-ndim-3 numpy-array-ndim-m0 numpy-array-horizontal' title='[0,1,6]'>16</span><span class=\"numpy-array-comma\">,</span><span class='numpy-array-slice numpy-array-ndim-3 numpy-array-ndim-m0 numpy-array-horizontal' title='[0,1,7]'>17</span><span class=\"numpy-array-comma\">,</span><span class='numpy-array-slice numpy-array-ndim-3 numpy-array-ndim-m0 numpy-array-horizontal' title='[0,1,8]'>18</span><span class=\"numpy-array-comma\">,</span><span class='numpy-array-slice numpy-array-ndim-3 numpy-array-ndim-m0 numpy-array-horizontal' title='[0,1,9]'>19</span><span class=\"numpy-array-bracket numpy-array-bracket-close\">]</span></span><span class=\"numpy-array-comma\">,</span><span class='numpy-array-slice numpy-array-ndim-2 numpy-array-ndim-m1 numpy-array-vertical' title='[0,2,:]'><span class=\"numpy-array-bracket numpy-array-bracket-open\">[</span><span class='numpy-array-slice numpy-array-ndim-3 numpy-array-ndim-m0 numpy-array-horizontal' title='[0,2,0]'>20</span><span class=\"numpy-array-comma\">,</span><span class='numpy-array-slice numpy-array-ndim-3 numpy-array-ndim-m0 numpy-array-horizontal' title='[0,2,1]'>21</span><span class=\"numpy-array-comma\">,</span><span class='numpy-array-slice numpy-array-ndim-3 numpy-array-ndim-m0 numpy-array-horizontal' title='[0,2,2]'>22</span><span class=\"numpy-array-comma\">,</span><span class='numpy-array-slice numpy-array-ndim-3 numpy-array-ndim-m0 numpy-array-horizontal' title='[0,2,3]'>23</span><span class=\"numpy-array-comma\">,</span><span class='numpy-array-slice numpy-array-ndim-3 numpy-array-ndim-m0 numpy-array-horizontal' title='[0,2,4]'>24</span><span class=\"numpy-array-comma\">,</span><span class='numpy-array-slice numpy-array-ndim-3 numpy-array-ndim-m0 numpy-array-horizontal' title='[0,2,5]'>25</span><span class=\"numpy-array-comma\">,</span><span class='numpy-array-slice numpy-array-ndim-3 numpy-array-ndim-m0 numpy-array-horizontal' title='[0,2,6]'>26</span><span class=\"numpy-array-comma\">,</span><span class='numpy-array-slice numpy-array-ndim-3 numpy-array-ndim-m0 numpy-array-horizontal' title='[0,2,7]'>27</span><span class=\"numpy-array-comma\">,</span><span class='numpy-array-slice numpy-array-ndim-3 numpy-array-ndim-m0 numpy-array-horizontal' title='[0,2,8]'>28</span><span class=\"numpy-array-comma\">,</span><span class='numpy-array-slice numpy-array-ndim-3 numpy-array-ndim-m0 numpy-array-horizontal' title='[0,2,9]'>29</span><span class=\"numpy-array-bracket numpy-array-bracket-close\">]</span></span><span class=\"numpy-array-bracket numpy-array-bracket-close\">]</span></span><span class=\"numpy-array-comma\">,</span><span class='numpy-array-slice numpy-array-ndim-1 numpy-array-ndim-m2 numpy-array-horizontal' title='[1,:,:]'><span class=\"numpy-array-bracket numpy-array-bracket-open\">[</span><span class='numpy-array-slice numpy-array-ndim-2 numpy-array-ndim-m1 numpy-array-vertical' title='[1,0,:]'><span class=\"numpy-array-bracket numpy-array-bracket-open\">[</span><span class='numpy-array-slice numpy-array-ndim-3 numpy-array-ndim-m0 numpy-array-horizontal' title='[1,0,0]'>30</span><span class=\"numpy-array-comma\">,</span><span class='numpy-array-slice numpy-array-ndim-3 numpy-array-ndim-m0 numpy-array-horizontal' title='[1,0,1]'>31</span><span class=\"numpy-array-comma\">,</span><span class='numpy-array-slice numpy-array-ndim-3 numpy-array-ndim-m0 numpy-array-horizontal' title='[1,0,2]'>32</span><span class=\"numpy-array-comma\">,</span><span class='numpy-array-slice numpy-array-ndim-3 numpy-array-ndim-m0 numpy-array-horizontal' title='[1,0,3]'>33</span><span class=\"numpy-array-comma\">,</span><span class='numpy-array-slice numpy-array-ndim-3 numpy-array-ndim-m0 numpy-array-horizontal' title='[1,0,4]'>34</span><span class=\"numpy-array-comma\">,</span><span class='numpy-array-slice numpy-array-ndim-3 numpy-array-ndim-m0 numpy-array-horizontal' title='[1,0,5]'>35</span><span class=\"numpy-array-comma\">,</span><span class='numpy-array-slice numpy-array-ndim-3 numpy-array-ndim-m0 numpy-array-horizontal' title='[1,0,6]'>36</span><span class=\"numpy-array-comma\">,</span><span class='numpy-array-slice numpy-array-ndim-3 numpy-array-ndim-m0 numpy-array-horizontal' title='[1,0,7]'>37</span><span class=\"numpy-array-comma\">,</span><span class='numpy-array-slice numpy-array-ndim-3 numpy-array-ndim-m0 numpy-array-horizontal' title='[1,0,8]'>38</span><span class=\"numpy-array-comma\">,</span><span class='numpy-array-slice numpy-array-ndim-3 numpy-array-ndim-m0 numpy-array-horizontal' title='[1,0,9]'>39</span><span class=\"numpy-array-bracket numpy-array-bracket-close\">]</span></span><span class=\"numpy-array-comma\">,</span><span class='numpy-array-slice numpy-array-ndim-2 numpy-array-ndim-m1 numpy-array-vertical' title='[1,1,:]'><span class=\"numpy-array-bracket numpy-array-bracket-open\">[</span><span class='numpy-array-slice numpy-array-ndim-3 numpy-array-ndim-m0 numpy-array-horizontal' title='[1,1,0]'>40</span><span class=\"numpy-array-comma\">,</span><span class='numpy-array-slice numpy-array-ndim-3 numpy-array-ndim-m0 numpy-array-horizontal' title='[1,1,1]'>41</span><span class=\"numpy-array-comma\">,</span><span class='numpy-array-slice numpy-array-ndim-3 numpy-array-ndim-m0 numpy-array-horizontal' title='[1,1,2]'>42</span><span class=\"numpy-array-comma\">,</span><span class='numpy-array-slice numpy-array-ndim-3 numpy-array-ndim-m0 numpy-array-horizontal' title='[1,1,3]'>43</span><span class=\"numpy-array-comma\">,</span><span class='numpy-array-slice numpy-array-ndim-3 numpy-array-ndim-m0 numpy-array-horizontal' title='[1,1,4]'>44</span><span class=\"numpy-array-comma\">,</span><span class='numpy-array-slice numpy-array-ndim-3 numpy-array-ndim-m0 numpy-array-horizontal' title='[1,1,5]'>45</span><span class=\"numpy-array-comma\">,</span><span class='numpy-array-slice numpy-array-ndim-3 numpy-array-ndim-m0 numpy-array-horizontal' title='[1,1,6]'>46</span><span class=\"numpy-array-comma\">,</span><span class='numpy-array-slice numpy-array-ndim-3 numpy-array-ndim-m0 numpy-array-horizontal' title='[1,1,7]'>47</span><span class=\"numpy-array-comma\">,</span><span class='numpy-array-slice numpy-array-ndim-3 numpy-array-ndim-m0 numpy-array-horizontal' title='[1,1,8]'>48</span><span class=\"numpy-array-comma\">,</span><span class='numpy-array-slice numpy-array-ndim-3 numpy-array-ndim-m0 numpy-array-horizontal' title='[1,1,9]'>49</span><span class=\"numpy-array-bracket numpy-array-bracket-close\">]</span></span><span class=\"numpy-array-comma\">,</span><span class='numpy-array-slice numpy-array-ndim-2 numpy-array-ndim-m1 numpy-array-vertical' title='[1,2,:]'><span class=\"numpy-array-bracket numpy-array-bracket-open\">[</span><span class='numpy-array-slice numpy-array-ndim-3 numpy-array-ndim-m0 numpy-array-horizontal' title='[1,2,0]'>50</span><span class=\"numpy-array-comma\">,</span><span class='numpy-array-slice numpy-array-ndim-3 numpy-array-ndim-m0 numpy-array-horizontal' title='[1,2,1]'>51</span><span class=\"numpy-array-comma\">,</span><span class='numpy-array-slice numpy-array-ndim-3 numpy-array-ndim-m0 numpy-array-horizontal' title='[1,2,2]'>52</span><span class=\"numpy-array-comma\">,</span><span class='numpy-array-slice numpy-array-ndim-3 numpy-array-ndim-m0 numpy-array-horizontal' title='[1,2,3]'>53</span><span class=\"numpy-array-comma\">,</span><span class='numpy-array-slice numpy-array-ndim-3 numpy-array-ndim-m0 numpy-array-horizontal' title='[1,2,4]'>54</span><span class=\"numpy-array-comma\">,</span><span class='numpy-array-slice numpy-array-ndim-3 numpy-array-ndim-m0 numpy-array-horizontal' title='[1,2,5]'>55</span><span class=\"numpy-array-comma\">,</span><span class='numpy-array-slice numpy-array-ndim-3 numpy-array-ndim-m0 numpy-array-horizontal' title='[1,2,6]'>56</span><span class=\"numpy-array-comma\">,</span><span class='numpy-array-slice numpy-array-ndim-3 numpy-array-ndim-m0 numpy-array-horizontal' title='[1,2,7]'>57</span><span class=\"numpy-array-comma\">,</span><span class='numpy-array-slice numpy-array-ndim-3 numpy-array-ndim-m0 numpy-array-horizontal' title='[1,2,8]'>58</span><span class=\"numpy-array-comma\">,</span><span class='numpy-array-slice numpy-array-ndim-3 numpy-array-ndim-m0 numpy-array-horizontal' title='[1,2,9]'>59</span><span class=\"numpy-array-bracket numpy-array-bracket-close\">]</span></span><span class=\"numpy-array-bracket numpy-array-bracket-close\">]</span></span><span class=\"numpy-array-bracket numpy-array-bracket-close\">]</span></span></div>"
      ],
      "text/plain": [
       "<IPython.core.display.HTML object>"
      ]
     },
     "execution_count": 6,
     "metadata": {},
     "output_type": "execute_result"
    }
   ],
   "source": [
    "#alternate between columns and rows\n",
    "make_pretty(arr_3d, show_brackets=True, is_horz=lambda arr, ax: (arr.ndim - ax) % 2 == 0)"
   ]
  },
  {
   "cell_type": "code",
   "execution_count": 7,
   "metadata": {},
   "outputs": [
    {
     "data": {
      "text/html": [
       "<style>\n",
       "    .numpy-array {\n",
       "        display: inline-block;\n",
       "    }\n",
       "    .numpy-array .numpy-array-slice {\n",
       "        border: 1px solid #cfcfcf;\n",
       "        border-radius: 4px;\n",
       "        margin: 1px;\n",
       "        padding: 1px;\n",
       "        display: flex;\n",
       "        flex: 1;\n",
       "        text-align: right;\n",
       "        position: relative;\n",
       "    }\n",
       "    .numpy-array .numpy-array-slice:hover {\n",
       "        border: 1px solid #66BB6A;\n",
       "    }\n",
       "    .numpy-array .numpy-array-slice.numpy-array-vertical {\n",
       "        flex-direction: column;\n",
       "    }\n",
       "    .numpy-array .numpy-array-slice.numpy-array-horizontal {\n",
       "        flex-direction: row;\n",
       "    }\n",
       "    .numpy-array .numpy-array-ndim-m0 {\n",
       "        padding: 0 0.5ex;\n",
       "    }\n",
       "    \n",
       "    /* Hide the comma and square bracket characters which exist to help with copy paste */\n",
       "    .numpy-array .numpy-array-bracket {\n",
       "        font-size: 0;\n",
       "        position: absolute;\n",
       "    }\n",
       "    .numpy-array span .numpy-array-comma {\n",
       "        font-size: 0;\n",
       "        height: 0;\n",
       "    }\n",
       "\n",
       "    .numpy-array.show-brackets .numpy-array-slice {\n",
       "        border-radius: 0;\n",
       "    }\n",
       "    .numpy-array.show-brackets .numpy-array-bracket {\n",
       "        border: 1px solid black; \n",
       "        border-radius: 0;  /* looks better without... */\n",
       "    }\n",
       "    .numpy-array.show-brackets .numpy-array-horizontal > .numpy-array-bracket-open {\n",
       "        top: -1px;\n",
       "        bottom: -1px;\n",
       "        left: -1px;\n",
       "        width: 10px;\n",
       "        border-right: none;\n",
       "        border-top-right-radius: 0;\n",
       "        border-bottom-right-radius: 0;\n",
       "    }\n",
       "    .numpy-array.show-brackets .numpy-array-horizontal > .numpy-array-bracket-close {\n",
       "        top: -1px;\n",
       "        bottom: -1px;\n",
       "        right: -1px;\n",
       "        width: 10px;\n",
       "        border-left: none;\n",
       "        border-top-left-radius: 0;\n",
       "        border-bottom-left-radius: 0;\n",
       "    }\n",
       "    .numpy-array.show-brackets .numpy-array-vertical > .numpy-array-bracket-open {\n",
       "        top: -1px;\n",
       "        right: -1px;\n",
       "        left: -1px;\n",
       "        height: 10px;\n",
       "        border-bottom: none;\n",
       "        border-bottom-right-radius: 0;\n",
       "        border-bottom-left-radius: 0;\n",
       "    }\n",
       "    .numpy-array.show-brackets .numpy-array-vertical > .numpy-array-bracket-close {\n",
       "        left: -1px;\n",
       "        bottom: -1px;\n",
       "        right: -1px;\n",
       "        height: 10px;\n",
       "        border-top: none;\n",
       "        border-top-right-radius: 0;\n",
       "        border-top-left-radius: 0;\n",
       "    }\n",
       "</style><div class='numpy-array show-brackets'><span class='numpy-array-slice numpy-array-ndim-0 numpy-array-ndim-m2 numpy-array-vertical' title='[:,:]'><span class=\"numpy-array-bracket numpy-array-bracket-open\">[</span><span class='numpy-array-slice numpy-array-ndim-1 numpy-array-ndim-m1 numpy-array-horizontal' title='[0,:]'><span class=\"numpy-array-bracket numpy-array-bracket-open\">[</span><span class='numpy-array-slice numpy-array-ndim-2 numpy-array-ndim-m0 numpy-array-vertical' title='[0,0]'>1.0</span><span class=\"numpy-array-comma\">,</span><span class='numpy-array-slice numpy-array-ndim-2 numpy-array-ndim-m0 numpy-array-vertical' title='[0,1]'>0.0</span><span class=\"numpy-array-comma\">,</span><span class='numpy-array-slice numpy-array-ndim-2 numpy-array-ndim-m0 numpy-array-vertical' title='[0,2]'>0.0</span><span class=\"numpy-array-comma\">,</span><span class='numpy-array-slice numpy-array-ndim-2 numpy-array-ndim-m0 numpy-array-vertical' title='[0,3]'>0.0</span><span class=\"numpy-array-comma\">,</span><span class='numpy-array-slice numpy-array-ndim-2 numpy-array-ndim-m0 numpy-array-vertical' title='[0,4]'>0.0</span><span class=\"numpy-array-bracket numpy-array-bracket-close\">]</span></span><span class=\"numpy-array-comma\">,</span><span class='numpy-array-slice numpy-array-ndim-1 numpy-array-ndim-m1 numpy-array-horizontal' title='[1,:]'><span class=\"numpy-array-bracket numpy-array-bracket-open\">[</span><span class='numpy-array-slice numpy-array-ndim-2 numpy-array-ndim-m0 numpy-array-vertical' title='[1,0]'>0.0</span><span class=\"numpy-array-comma\">,</span><span class='numpy-array-slice numpy-array-ndim-2 numpy-array-ndim-m0 numpy-array-vertical' title='[1,1]'>1.0</span><span class=\"numpy-array-comma\">,</span><span class='numpy-array-slice numpy-array-ndim-2 numpy-array-ndim-m0 numpy-array-vertical' title='[1,2]'>0.0</span><span class=\"numpy-array-comma\">,</span><span class='numpy-array-slice numpy-array-ndim-2 numpy-array-ndim-m0 numpy-array-vertical' title='[1,3]'>0.0</span><span class=\"numpy-array-comma\">,</span><span class='numpy-array-slice numpy-array-ndim-2 numpy-array-ndim-m0 numpy-array-vertical' title='[1,4]'>0.0</span><span class=\"numpy-array-bracket numpy-array-bracket-close\">]</span></span><span class=\"numpy-array-comma\">,</span><span class='numpy-array-slice numpy-array-ndim-1 numpy-array-ndim-m1 numpy-array-horizontal' title='[2,:]'><span class=\"numpy-array-bracket numpy-array-bracket-open\">[</span><span class='numpy-array-slice numpy-array-ndim-2 numpy-array-ndim-m0 numpy-array-vertical' title='[2,0]'>0.0</span><span class=\"numpy-array-comma\">,</span><span class='numpy-array-slice numpy-array-ndim-2 numpy-array-ndim-m0 numpy-array-vertical' title='[2,1]'>0.0</span><span class=\"numpy-array-comma\">,</span><span class='numpy-array-slice numpy-array-ndim-2 numpy-array-ndim-m0 numpy-array-vertical' title='[2,2]'>1.0</span><span class=\"numpy-array-comma\">,</span><span class='numpy-array-slice numpy-array-ndim-2 numpy-array-ndim-m0 numpy-array-vertical' title='[2,3]'>0.0</span><span class=\"numpy-array-comma\">,</span><span class='numpy-array-slice numpy-array-ndim-2 numpy-array-ndim-m0 numpy-array-vertical' title='[2,4]'>0.0</span><span class=\"numpy-array-bracket numpy-array-bracket-close\">]</span></span><span class=\"numpy-array-comma\">,</span><span class='numpy-array-slice numpy-array-ndim-1 numpy-array-ndim-m1 numpy-array-horizontal' title='[3,:]'><span class=\"numpy-array-bracket numpy-array-bracket-open\">[</span><span class='numpy-array-slice numpy-array-ndim-2 numpy-array-ndim-m0 numpy-array-vertical' title='[3,0]'>0.0</span><span class=\"numpy-array-comma\">,</span><span class='numpy-array-slice numpy-array-ndim-2 numpy-array-ndim-m0 numpy-array-vertical' title='[3,1]'>0.0</span><span class=\"numpy-array-comma\">,</span><span class='numpy-array-slice numpy-array-ndim-2 numpy-array-ndim-m0 numpy-array-vertical' title='[3,2]'>0.0</span><span class=\"numpy-array-comma\">,</span><span class='numpy-array-slice numpy-array-ndim-2 numpy-array-ndim-m0 numpy-array-vertical' title='[3,3]'>1.0</span><span class=\"numpy-array-comma\">,</span><span class='numpy-array-slice numpy-array-ndim-2 numpy-array-ndim-m0 numpy-array-vertical' title='[3,4]'>0.0</span><span class=\"numpy-array-bracket numpy-array-bracket-close\">]</span></span><span class=\"numpy-array-comma\">,</span><span class='numpy-array-slice numpy-array-ndim-1 numpy-array-ndim-m1 numpy-array-horizontal' title='[4,:]'><span class=\"numpy-array-bracket numpy-array-bracket-open\">[</span><span class='numpy-array-slice numpy-array-ndim-2 numpy-array-ndim-m0 numpy-array-vertical' title='[4,0]'>0.0</span><span class=\"numpy-array-comma\">,</span><span class='numpy-array-slice numpy-array-ndim-2 numpy-array-ndim-m0 numpy-array-vertical' title='[4,1]'>0.0</span><span class=\"numpy-array-comma\">,</span><span class='numpy-array-slice numpy-array-ndim-2 numpy-array-ndim-m0 numpy-array-vertical' title='[4,2]'>0.0</span><span class=\"numpy-array-comma\">,</span><span class='numpy-array-slice numpy-array-ndim-2 numpy-array-ndim-m0 numpy-array-vertical' title='[4,3]'>0.0</span><span class=\"numpy-array-comma\">,</span><span class='numpy-array-slice numpy-array-ndim-2 numpy-array-ndim-m0 numpy-array-vertical' title='[4,4]'>1.0</span><span class=\"numpy-array-bracket numpy-array-bracket-close\">]</span></span><span class=\"numpy-array-bracket numpy-array-bracket-close\">]</span></span></div>"
      ],
      "text/plain": [
       "<IPython.core.display.HTML object>"
      ]
     },
     "execution_count": 7,
     "metadata": {},
     "output_type": "execute_result"
    }
   ],
   "source": [
    "make_pretty(np.eye(5), show_brackets=True)"
   ]
  },
  {
   "cell_type": "code",
   "execution_count": null,
   "metadata": {},
   "outputs": [],
   "source": []
  }
 ],
 "metadata": {
  "kernelspec": {
   "display_name": "Python 3",
   "language": "python",
   "name": "python3"
  },
  "language_info": {
   "codemirror_mode": {
    "name": "ipython",
    "version": 3
   },
   "file_extension": ".py",
   "mimetype": "text/x-python",
   "name": "python",
   "nbconvert_exporter": "python",
   "pygments_lexer": "ipython3",
   "version": "3.7.5"
  }
 },
 "nbformat": 4,
 "nbformat_minor": 2
}
