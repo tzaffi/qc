{
 "cells": [
  {
   "cell_type": "markdown",
   "metadata": {},
   "source": [
    "... continue [here](https://livebook.manning.com/book/learn-quantum-computing-with-python-and-q-sharp/chapter-2/v-4/point-7622-337-337-0)"
   ]
  },
  {
   "cell_type": "code",
   "execution_count": 20,
   "metadata": {},
   "outputs": [],
   "source": [
    "%run ../globals.ipynb"
   ]
  },
  {
   "cell_type": "markdown",
   "metadata": {},
   "source": [
    "# Unitary operators and the Hadamard Operator"
   ]
  },
  {
   "cell_type": "code",
   "execution_count": 1,
   "metadata": {},
   "outputs": [],
   "source": [
    "import numpy as np"
   ]
  },
  {
   "cell_type": "code",
   "execution_count": 2,
   "metadata": {},
   "outputs": [
    {
     "data": {
      "text/plain": [
       "array([[1],\n",
       "       [0]])"
      ]
     },
     "execution_count": 2,
     "metadata": {},
     "output_type": "execute_result"
    }
   ],
   "source": [
    "ket0 = np.array(\n",
    "    [[1], [0]]\n",
    ")\n",
    "ket0"
   ]
  },
  {
   "cell_type": "code",
   "execution_count": 3,
   "metadata": {},
   "outputs": [
    {
     "data": {
      "text/plain": [
       "array([[0],\n",
       "       [1]])"
      ]
     },
     "execution_count": 3,
     "metadata": {},
     "output_type": "execute_result"
    }
   ],
   "source": [
    "ket1 = np.array(\n",
    "    [[0], [1]]\n",
    ")\n",
    "ket1"
   ]
  },
  {
   "cell_type": "code",
   "execution_count": 4,
   "metadata": {},
   "outputs": [
    {
     "data": {
      "text/plain": [
       "array([[0.70710678],\n",
       "       [0.70710678]])"
      ]
     },
     "execution_count": 4,
     "metadata": {},
     "output_type": "execute_result"
    }
   ],
   "source": [
    "ket_plus = (ket0 + ket1) / np.sqrt(2)\n",
    "ket_plus"
   ]
  },
  {
   "cell_type": "markdown",
   "metadata": {},
   "source": [
    "## Definition of Hadamard Operator"
   ]
  },
  {
   "cell_type": "code",
   "execution_count": 7,
   "metadata": {},
   "outputs": [],
   "source": [
    "H = np.array([[1, 1], [1, -1]]) / np.sqrt(2)"
   ]
  },
  {
   "cell_type": "code",
   "execution_count": 13,
   "metadata": {},
   "outputs": [
    {
     "data": {
      "text/html": [
       "<style>\n",
       "    .numpy-array {\n",
       "        display: inline-block;\n",
       "    }\n",
       "    .numpy-array .numpy-array-slice {\n",
       "        border: 1px solid #cfcfcf;\n",
       "        border-radius: 4px;\n",
       "        margin: 1px;\n",
       "        padding: 1px;\n",
       "        display: flex;\n",
       "        flex: 1;\n",
       "        text-align: right;\n",
       "        position: relative;\n",
       "    }\n",
       "    .numpy-array .numpy-array-slice:hover {\n",
       "        border: 1px solid #66BB6A;\n",
       "    }\n",
       "    .numpy-array .numpy-array-slice.numpy-array-vertical {\n",
       "        flex-direction: column;\n",
       "    }\n",
       "    .numpy-array .numpy-array-slice.numpy-array-horizontal {\n",
       "        flex-direction: row;\n",
       "    }\n",
       "    .numpy-array .numpy-array-ndim-m0 {\n",
       "        padding: 0 0.5ex;\n",
       "    }\n",
       "    \n",
       "    /* Hide the comma and square bracket characters which exist to help with copy paste */\n",
       "    .numpy-array .numpy-array-bracket {\n",
       "        font-size: 0;\n",
       "        position: absolute;\n",
       "    }\n",
       "    .numpy-array span .numpy-array-comma {\n",
       "        font-size: 0;\n",
       "        height: 0;\n",
       "    }\n",
       "\n",
       "    .numpy-array.show-brackets .numpy-array-slice {\n",
       "        border-radius: 0;\n",
       "    }\n",
       "    .numpy-array.show-brackets .numpy-array-bracket {\n",
       "        border: 1px solid black; \n",
       "        border-radius: 0;  /* looks better without... */\n",
       "    }\n",
       "    .numpy-array.show-brackets .numpy-array-horizontal > .numpy-array-bracket-open {\n",
       "        top: -1px;\n",
       "        bottom: -1px;\n",
       "        left: -1px;\n",
       "        width: 10px;\n",
       "        border-right: none;\n",
       "        border-top-right-radius: 0;\n",
       "        border-bottom-right-radius: 0;\n",
       "    }\n",
       "    .numpy-array.show-brackets .numpy-array-horizontal > .numpy-array-bracket-close {\n",
       "        top: -1px;\n",
       "        bottom: -1px;\n",
       "        right: -1px;\n",
       "        width: 10px;\n",
       "        border-left: none;\n",
       "        border-top-left-radius: 0;\n",
       "        border-bottom-left-radius: 0;\n",
       "    }\n",
       "    .numpy-array.show-brackets .numpy-array-vertical > .numpy-array-bracket-open {\n",
       "        top: -1px;\n",
       "        right: -1px;\n",
       "        left: -1px;\n",
       "        height: 10px;\n",
       "        border-bottom: none;\n",
       "        border-bottom-right-radius: 0;\n",
       "        border-bottom-left-radius: 0;\n",
       "    }\n",
       "    .numpy-array.show-brackets .numpy-array-vertical > .numpy-array-bracket-close {\n",
       "        left: -1px;\n",
       "        bottom: -1px;\n",
       "        right: -1px;\n",
       "        height: 10px;\n",
       "        border-top: none;\n",
       "        border-top-right-radius: 0;\n",
       "        border-top-left-radius: 0;\n",
       "    }\n",
       "</style><div class='numpy-array show-brackets'><span class='numpy-array-slice numpy-array-ndim-0 numpy-array-ndim-m2 numpy-array-vertical' title='[:,:]'><span class=\"numpy-array-bracket numpy-array-bracket-open\">[</span><span class='numpy-array-slice numpy-array-ndim-1 numpy-array-ndim-m1 numpy-array-horizontal' title='[0,:]'><span class=\"numpy-array-bracket numpy-array-bracket-open\">[</span><span class='numpy-array-slice numpy-array-ndim-2 numpy-array-ndim-m0 numpy-array-vertical' title='[0,0]'>0.7071067811865475</span><span class=\"numpy-array-comma\">,</span><span class='numpy-array-slice numpy-array-ndim-2 numpy-array-ndim-m0 numpy-array-vertical' title='[0,1]'>0.7071067811865475</span><span class=\"numpy-array-bracket numpy-array-bracket-close\">]</span></span><span class=\"numpy-array-comma\">,</span><span class='numpy-array-slice numpy-array-ndim-1 numpy-array-ndim-m1 numpy-array-horizontal' title='[1,:]'><span class=\"numpy-array-bracket numpy-array-bracket-open\">[</span><span class='numpy-array-slice numpy-array-ndim-2 numpy-array-ndim-m0 numpy-array-vertical' title='[1,0]'>0.7071067811865475</span><span class=\"numpy-array-comma\">,</span><span class='numpy-array-slice numpy-array-ndim-2 numpy-array-ndim-m0 numpy-array-vertical' title='[1,1]'>-0.7071067811865475</span><span class=\"numpy-array-bracket numpy-array-bracket-close\">]</span></span><span class=\"numpy-array-bracket numpy-array-bracket-close\">]</span></span></div>"
      ],
      "text/plain": [
       "<IPython.core.display.HTML object>"
      ]
     },
     "execution_count": 13,
     "metadata": {},
     "output_type": "execute_result"
    }
   ],
   "source": [
    "make_pretty(H, show_brackets=True, )"
   ]
  },
  {
   "cell_type": "code",
   "execution_count": 14,
   "metadata": {},
   "outputs": [
    {
     "data": {
      "text/html": [
       "<style>\n",
       "    .numpy-array {\n",
       "        display: inline-block;\n",
       "    }\n",
       "    .numpy-array .numpy-array-slice {\n",
       "        border: 1px solid #cfcfcf;\n",
       "        border-radius: 4px;\n",
       "        margin: 1px;\n",
       "        padding: 1px;\n",
       "        display: flex;\n",
       "        flex: 1;\n",
       "        text-align: right;\n",
       "        position: relative;\n",
       "    }\n",
       "    .numpy-array .numpy-array-slice:hover {\n",
       "        border: 1px solid #66BB6A;\n",
       "    }\n",
       "    .numpy-array .numpy-array-slice.numpy-array-vertical {\n",
       "        flex-direction: column;\n",
       "    }\n",
       "    .numpy-array .numpy-array-slice.numpy-array-horizontal {\n",
       "        flex-direction: row;\n",
       "    }\n",
       "    .numpy-array .numpy-array-ndim-m0 {\n",
       "        padding: 0 0.5ex;\n",
       "    }\n",
       "    \n",
       "    /* Hide the comma and square bracket characters which exist to help with copy paste */\n",
       "    .numpy-array .numpy-array-bracket {\n",
       "        font-size: 0;\n",
       "        position: absolute;\n",
       "    }\n",
       "    .numpy-array span .numpy-array-comma {\n",
       "        font-size: 0;\n",
       "        height: 0;\n",
       "    }\n",
       "</style><div class='numpy-array'><span class='numpy-array-slice numpy-array-ndim-0 numpy-array-ndim-m2 numpy-array-vertical' title='[:,:]'><span class=\"numpy-array-bracket numpy-array-bracket-open\">[</span><span class='numpy-array-slice numpy-array-ndim-1 numpy-array-ndim-m1 numpy-array-horizontal' title='[0,:]'><span class=\"numpy-array-bracket numpy-array-bracket-open\">[</span><span class='numpy-array-slice numpy-array-ndim-2 numpy-array-ndim-m0 numpy-array-vertical' title='[0,0]'>0.7071067811865475</span><span class=\"numpy-array-bracket numpy-array-bracket-close\">]</span></span><span class=\"numpy-array-comma\">,</span><span class='numpy-array-slice numpy-array-ndim-1 numpy-array-ndim-m1 numpy-array-horizontal' title='[1,:]'><span class=\"numpy-array-bracket numpy-array-bracket-open\">[</span><span class='numpy-array-slice numpy-array-ndim-2 numpy-array-ndim-m0 numpy-array-vertical' title='[1,0]'>0.7071067811865475</span><span class=\"numpy-array-bracket numpy-array-bracket-close\">]</span></span><span class=\"numpy-array-bracket numpy-array-bracket-close\">]</span></span></div>"
      ],
      "text/plain": [
       "<IPython.core.display.HTML object>"
      ]
     },
     "execution_count": 14,
     "metadata": {},
     "output_type": "execute_result"
    }
   ],
   "source": [
    "make_pretty(H @ ket0)"
   ]
  },
  {
   "cell_type": "code",
   "execution_count": 15,
   "metadata": {},
   "outputs": [
    {
     "data": {
      "text/html": [
       "<style>\n",
       "    .numpy-array {\n",
       "        display: inline-block;\n",
       "    }\n",
       "    .numpy-array .numpy-array-slice {\n",
       "        border: 1px solid #cfcfcf;\n",
       "        border-radius: 4px;\n",
       "        margin: 1px;\n",
       "        padding: 1px;\n",
       "        display: flex;\n",
       "        flex: 1;\n",
       "        text-align: right;\n",
       "        position: relative;\n",
       "    }\n",
       "    .numpy-array .numpy-array-slice:hover {\n",
       "        border: 1px solid #66BB6A;\n",
       "    }\n",
       "    .numpy-array .numpy-array-slice.numpy-array-vertical {\n",
       "        flex-direction: column;\n",
       "    }\n",
       "    .numpy-array .numpy-array-slice.numpy-array-horizontal {\n",
       "        flex-direction: row;\n",
       "    }\n",
       "    .numpy-array .numpy-array-ndim-m0 {\n",
       "        padding: 0 0.5ex;\n",
       "    }\n",
       "    \n",
       "    /* Hide the comma and square bracket characters which exist to help with copy paste */\n",
       "    .numpy-array .numpy-array-bracket {\n",
       "        font-size: 0;\n",
       "        position: absolute;\n",
       "    }\n",
       "    .numpy-array span .numpy-array-comma {\n",
       "        font-size: 0;\n",
       "        height: 0;\n",
       "    }\n",
       "</style><div class='numpy-array'><span class='numpy-array-slice numpy-array-ndim-0 numpy-array-ndim-m2 numpy-array-vertical' title='[:,:]'><span class=\"numpy-array-bracket numpy-array-bracket-open\">[</span><span class='numpy-array-slice numpy-array-ndim-1 numpy-array-ndim-m1 numpy-array-horizontal' title='[0,:]'><span class=\"numpy-array-bracket numpy-array-bracket-open\">[</span><span class='numpy-array-slice numpy-array-ndim-2 numpy-array-ndim-m0 numpy-array-vertical' title='[0,0]'>0.7071067811865475</span><span class=\"numpy-array-bracket numpy-array-bracket-close\">]</span></span><span class=\"numpy-array-comma\">,</span><span class='numpy-array-slice numpy-array-ndim-1 numpy-array-ndim-m1 numpy-array-horizontal' title='[1,:]'><span class=\"numpy-array-bracket numpy-array-bracket-open\">[</span><span class='numpy-array-slice numpy-array-ndim-2 numpy-array-ndim-m0 numpy-array-vertical' title='[1,0]'>-0.7071067811865475</span><span class=\"numpy-array-bracket numpy-array-bracket-close\">]</span></span><span class=\"numpy-array-bracket numpy-array-bracket-close\">]</span></span></div>"
      ],
      "text/plain": [
       "<IPython.core.display.HTML object>"
      ]
     },
     "execution_count": 15,
     "metadata": {},
     "output_type": "execute_result"
    }
   ],
   "source": [
    "make_pretty(H @ ket1)"
   ]
  },
  {
   "cell_type": "code",
   "execution_count": 21,
   "metadata": {},
   "outputs": [
    {
     "data": {
      "text/html": [
       "<style>\n",
       "    .numpy-array {\n",
       "        display: inline-block;\n",
       "    }\n",
       "    .numpy-array .numpy-array-slice {\n",
       "        border: 1px solid #cfcfcf;\n",
       "        border-radius: 4px;\n",
       "        margin: 1px;\n",
       "        padding: 1px;\n",
       "        display: flex;\n",
       "        flex: 1;\n",
       "        text-align: right;\n",
       "        position: relative;\n",
       "    }\n",
       "    .numpy-array .numpy-array-slice:hover {\n",
       "        border: 1px solid #66BB6A;\n",
       "    }\n",
       "    .numpy-array .numpy-array-slice.numpy-array-vertical {\n",
       "        flex-direction: column;\n",
       "    }\n",
       "    .numpy-array .numpy-array-slice.numpy-array-horizontal {\n",
       "        flex-direction: row;\n",
       "    }\n",
       "    .numpy-array .numpy-array-ndim-m0 {\n",
       "        padding: 0 0.5ex;\n",
       "    }\n",
       "    \n",
       "    /* Hide the comma and square bracket characters which exist to help with copy paste */\n",
       "    .numpy-array .numpy-array-bracket {\n",
       "        font-size: 0;\n",
       "        position: absolute;\n",
       "    }\n",
       "    .numpy-array span .numpy-array-comma {\n",
       "        font-size: 0;\n",
       "        height: 0;\n",
       "    }\n",
       "</style><div class='numpy-array'><span class='numpy-array-slice numpy-array-ndim-0 numpy-array-ndim-m2 numpy-array-vertical' title='[:,:]'><span class=\"numpy-array-bracket numpy-array-bracket-open\">[</span><span class='numpy-array-slice numpy-array-ndim-1 numpy-array-ndim-m1 numpy-array-horizontal' title='[0,:]'><span class=\"numpy-array-bracket numpy-array-bracket-open\">[</span><span class='numpy-array-slice numpy-array-ndim-2 numpy-array-ndim-m0 numpy-array-vertical' title='[0,0]'>0.7071067811865475</span><span class=\"numpy-array-bracket numpy-array-bracket-close\">]</span></span><span class=\"numpy-array-comma\">,</span><span class='numpy-array-slice numpy-array-ndim-1 numpy-array-ndim-m1 numpy-array-horizontal' title='[1,:]'><span class=\"numpy-array-bracket numpy-array-bracket-open\">[</span><span class='numpy-array-slice numpy-array-ndim-2 numpy-array-ndim-m0 numpy-array-vertical' title='[1,0]'>-0.7071067811865475</span><span class=\"numpy-array-bracket numpy-array-bracket-close\">]</span></span><span class=\"numpy-array-bracket numpy-array-bracket-close\">]</span></span></div>"
      ],
      "text/plain": [
       "<IPython.core.display.HTML object>"
      ]
     },
     "execution_count": 21,
     "metadata": {},
     "output_type": "execute_result"
    }
   ],
   "source": [
    "PP %(H @ ket1)"
   ]
  },
  {
   "cell_type": "code",
   "execution_count": 23,
   "metadata": {},
   "outputs": [
    {
     "data": {
      "text/html": [
       "<style>\n",
       "    .numpy-array {\n",
       "        display: inline-block;\n",
       "    }\n",
       "    .numpy-array .numpy-array-slice {\n",
       "        border: 1px solid #cfcfcf;\n",
       "        border-radius: 4px;\n",
       "        margin: 1px;\n",
       "        padding: 1px;\n",
       "        display: flex;\n",
       "        flex: 1;\n",
       "        text-align: right;\n",
       "        position: relative;\n",
       "    }\n",
       "    .numpy-array .numpy-array-slice:hover {\n",
       "        border: 1px solid #66BB6A;\n",
       "    }\n",
       "    .numpy-array .numpy-array-slice.numpy-array-vertical {\n",
       "        flex-direction: column;\n",
       "    }\n",
       "    .numpy-array .numpy-array-slice.numpy-array-horizontal {\n",
       "        flex-direction: row;\n",
       "    }\n",
       "    .numpy-array .numpy-array-ndim-m0 {\n",
       "        padding: 0 0.5ex;\n",
       "    }\n",
       "    \n",
       "    /* Hide the comma and square bracket characters which exist to help with copy paste */\n",
       "    .numpy-array .numpy-array-bracket {\n",
       "        font-size: 0;\n",
       "        position: absolute;\n",
       "    }\n",
       "    .numpy-array span .numpy-array-comma {\n",
       "        font-size: 0;\n",
       "        height: 0;\n",
       "    }\n",
       "</style><div class='numpy-array'><span class='numpy-array-slice numpy-array-ndim-0 numpy-array-ndim-m2 numpy-array-vertical' title='[:,:]'><span class=\"numpy-array-bracket numpy-array-bracket-open\">[</span><span class='numpy-array-slice numpy-array-ndim-1 numpy-array-ndim-m1 numpy-array-horizontal' title='[0,:]'><span class=\"numpy-array-bracket numpy-array-bracket-open\">[</span><span class='numpy-array-slice numpy-array-ndim-2 numpy-array-ndim-m0 numpy-array-vertical' title='[0,0]'>0</span><span class=\"numpy-array-bracket numpy-array-bracket-close\">]</span></span><span class=\"numpy-array-comma\">,</span><span class='numpy-array-slice numpy-array-ndim-1 numpy-array-ndim-m1 numpy-array-horizontal' title='[1,:]'><span class=\"numpy-array-bracket numpy-array-bracket-open\">[</span><span class='numpy-array-slice numpy-array-ndim-2 numpy-array-ndim-m0 numpy-array-vertical' title='[1,0]'>1</span><span class=\"numpy-array-bracket numpy-array-bracket-close\">]</span></span><span class=\"numpy-array-bracket numpy-array-bracket-close\">]</span></span></div>"
      ],
      "text/plain": [
       "<IPython.core.display.HTML object>"
      ]
     },
     "execution_count": 23,
     "metadata": {},
     "output_type": "execute_result"
    }
   ],
   "source": [
    "X = np.array([[0, 1], [1, 0]])\n",
    "PP % (X @ ket0)"
   ]
  },
  {
   "cell_type": "code",
   "execution_count": 17,
   "metadata": {},
   "outputs": [
    {
     "data": {
      "text/plain": [
       "True"
      ]
     },
     "execution_count": 17,
     "metadata": {},
     "output_type": "execute_result"
    }
   ],
   "source": [
    "(X @ ket0 == ket1).all()"
   ]
  },
  {
   "cell_type": "code",
   "execution_count": 24,
   "metadata": {},
   "outputs": [
    {
     "data": {
      "text/html": [
       "<style>\n",
       "    .numpy-array {\n",
       "        display: inline-block;\n",
       "    }\n",
       "    .numpy-array .numpy-array-slice {\n",
       "        border: 1px solid #cfcfcf;\n",
       "        border-radius: 4px;\n",
       "        margin: 1px;\n",
       "        padding: 1px;\n",
       "        display: flex;\n",
       "        flex: 1;\n",
       "        text-align: right;\n",
       "        position: relative;\n",
       "    }\n",
       "    .numpy-array .numpy-array-slice:hover {\n",
       "        border: 1px solid #66BB6A;\n",
       "    }\n",
       "    .numpy-array .numpy-array-slice.numpy-array-vertical {\n",
       "        flex-direction: column;\n",
       "    }\n",
       "    .numpy-array .numpy-array-slice.numpy-array-horizontal {\n",
       "        flex-direction: row;\n",
       "    }\n",
       "    .numpy-array .numpy-array-ndim-m0 {\n",
       "        padding: 0 0.5ex;\n",
       "    }\n",
       "    \n",
       "    /* Hide the comma and square bracket characters which exist to help with copy paste */\n",
       "    .numpy-array .numpy-array-bracket {\n",
       "        font-size: 0;\n",
       "        position: absolute;\n",
       "    }\n",
       "    .numpy-array span .numpy-array-comma {\n",
       "        font-size: 0;\n",
       "        height: 0;\n",
       "    }\n",
       "</style><div class='numpy-array'><span class='numpy-array-slice numpy-array-ndim-0 numpy-array-ndim-m2 numpy-array-vertical' title='[:,:]'><span class=\"numpy-array-bracket numpy-array-bracket-open\">[</span><span class='numpy-array-slice numpy-array-ndim-1 numpy-array-ndim-m1 numpy-array-horizontal' title='[0,:]'><span class=\"numpy-array-bracket numpy-array-bracket-open\">[</span><span class='numpy-array-slice numpy-array-ndim-2 numpy-array-ndim-m0 numpy-array-vertical' title='[0,0]'>0.7071067811865475</span><span class=\"numpy-array-bracket numpy-array-bracket-close\">]</span></span><span class=\"numpy-array-comma\">,</span><span class='numpy-array-slice numpy-array-ndim-1 numpy-array-ndim-m1 numpy-array-horizontal' title='[1,:]'><span class=\"numpy-array-bracket numpy-array-bracket-open\">[</span><span class='numpy-array-slice numpy-array-ndim-2 numpy-array-ndim-m0 numpy-array-vertical' title='[1,0]'>0.7071067811865475</span><span class=\"numpy-array-bracket numpy-array-bracket-close\">]</span></span><span class=\"numpy-array-bracket numpy-array-bracket-close\">]</span></span></div>"
      ],
      "text/plain": [
       "<IPython.core.display.HTML object>"
      ]
     },
     "execution_count": 24,
     "metadata": {},
     "output_type": "execute_result"
    }
   ],
   "source": [
    "PP % (X @ H @ ket0)"
   ]
  },
  {
   "cell_type": "code",
   "execution_count": null,
   "metadata": {},
   "outputs": [],
   "source": []
  }
 ],
 "metadata": {
  "kernelspec": {
   "display_name": "Python 3",
   "language": "python",
   "name": "python3"
  },
  "language_info": {
   "codemirror_mode": {
    "name": "ipython",
    "version": 3
   },
   "file_extension": ".py",
   "mimetype": "text/x-python",
   "name": "python",
   "nbconvert_exporter": "python",
   "pygments_lexer": "ipython3",
   "version": "3.7.5"
  }
 },
 "nbformat": 4,
 "nbformat_minor": 2
}
