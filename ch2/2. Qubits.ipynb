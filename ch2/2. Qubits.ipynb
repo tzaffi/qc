{
 "cells": [
  {
   "cell_type": "markdown",
   "metadata": {},
   "source": [
    "# Qubits"
   ]
  },
  {
   "cell_type": "markdown",
   "metadata": {},
   "source": [
    "# Define LaTex Commands\n",
    "\n",
    "$$\\newcommand{\\ket}[1]{\\left|{#1}\\right\\rangle}$$\n",
    "$$\\newcommand{\\bra}[1]{\\left\\langle{#1}\\right|}$$\n",
    "$$\\newcommand{\\braket}[2]{\\left\\langle{#1}\\middle|{#2}\\right\\rangle}$$\n",
    "\n",
    "Resulting in:"
   ]
  },
  {
   "cell_type": "markdown",
   "metadata": {},
   "source": [
    "$$\\bra{\\Psi}\\Omega\\ket{\\Psi}$$\n",
    "\n",
    "$$\\braket{\\Psi}{\\Psi}$$\n",
    "\n",
    "$$\\braket{\\frac{\\Psi}{2}}{\\Psi}$$"
   ]
  },
  {
   "cell_type": "markdown",
   "metadata": {},
   "source": [
    "$$\\bra{0}$$\n",
    "$$\\ket{1}$$\n",
    "$$\\braket{0}{1}$$"
   ]
  },
  {
   "cell_type": "markdown",
   "metadata": {},
   "source": [
    "## Often $\\ket{0}$ and $\\ket{1}$ are represented on the vertical number line:\n",
    "\n",
    "![](https://dpzbhybb2pdcj.cloudfront.net/kaiser/v-4/Figures/CH02_FIGxx_ket-label.png)"
   ]
  },
  {
   "cell_type": "markdown",
   "metadata": {},
   "source": [
    "## They are viewed as being 180 degree rotations of each other:\n",
    "\n",
    "![](https://dpzbhybb2pdcj.cloudfront.net/kaiser/v-4/Figures/CH02_FIGxx_rebit_NOT.png)"
   ]
  },
  {
   "cell_type": "markdown",
   "metadata": {},
   "source": [
    "## If we rotate $\\ket{0}$ by 90 degrees instead, we get their unitary average:\n",
    "\n",
    "$$ \\frac{ \\ket{0} + \\ket{1} } { \\sqrt{2} } $$"
   ]
  },
  {
   "cell_type": "markdown",
   "metadata": {},
   "source": [
    "## This is part of special definitions:\n",
    "\n",
    "* +90 degree rotation: $$ \\frac{ \\ket{0} + \\ket{1} } { \\sqrt{2} } $$\n",
    "* -90 degree rotation: $$ \\frac{ \\ket{0} - \\ket{1} } { \\sqrt{2} } $$"
   ]
  },
  {
   "cell_type": "markdown",
   "metadata": {},
   "source": [
    "## In general:\n",
    "\n",
    "* rotation by $\\theta$: \n",
    "\n",
    "$$ \\cos\\left(\\frac{\\theta}{2}\\right) \\ket{0} + \\sin\\left(\\frac{\\theta}{2}\\right) \\ket{0} $$ "
   ]
  },
  {
   "cell_type": "markdown",
   "metadata": {},
   "source": [
    "## Dirac v. Numpy"
   ]
  },
  {
   "cell_type": "code",
   "execution_count": 4,
   "metadata": {},
   "outputs": [],
   "source": [
    "import numpy as np\n",
    "from pprint import pprint as pp"
   ]
  },
  {
   "cell_type": "code",
   "execution_count": 16,
   "metadata": {},
   "outputs": [
    {
     "name": "stdout",
     "output_type": "stream",
     "text": [
      "\n",
      "|0> == \n",
      "[[1]\n",
      " [0]]\n",
      "\n",
      "|1> == \n",
      "[[0]\n",
      " [1]]\n",
      "\n",
      "|+> == \n",
      "[[0.70710678]\n",
      " [0.70710678]]\n",
      "\n",
      "|-> == \n",
      "[[ 0.70710678]\n",
      " [-0.70710678]]\n"
     ]
    }
   ],
   "source": [
    "dirac2numpy = {\n",
    "    '|0>': np.array([[1], [0]]),\n",
    "    '|1>': np.array([[0], [1]]),\n",
    "    '|+>': np.array([[1], [1]])/2**0.5,\n",
    "    '|->': np.array([[1], [-1]])/2**0.5,\n",
    "}\n",
    "\n",
    "for k,v in dirac2numpy.items():\n",
    "    print(f'\\n{k} == \\n{v}')"
   ]
  },
  {
   "cell_type": "markdown",
   "metadata": {},
   "source": [
    "## Born's rule\n",
    "\n",
    "$$ P( \\text{measurement} | \\text{state} ) = \n",
    "| \\braket{\\text{measurement}}{\\text{state}} | ^2 $$"
   ]
  },
  {
   "cell_type": "code",
   "execution_count": null,
   "metadata": {},
   "outputs": [],
   "source": []
  }
 ],
 "metadata": {
  "kernelspec": {
   "display_name": "Python 3",
   "language": "python",
   "name": "python3"
  },
  "language_info": {
   "codemirror_mode": {
    "name": "ipython",
    "version": 3
   },
   "file_extension": ".py",
   "mimetype": "text/x-python",
   "name": "python",
   "nbconvert_exporter": "python",
   "pygments_lexer": "ipython3",
   "version": "3.7.5"
  }
 },
 "nbformat": 4,
 "nbformat_minor": 2
}
